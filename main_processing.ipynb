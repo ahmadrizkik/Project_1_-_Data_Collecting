{
 "cells": [
  {
   "cell_type": "code",
   "execution_count": 1,
   "metadata": {},
   "outputs": [],
   "source": [
    "# import tools for request api\n",
    "import pandas as pd\n",
    "import configparser\n",
    "import json\n",
    "from IPython.display import JSON\n",
    "from googleapiclient.discovery import build"
   ]
  },
  {
   "cell_type": "code",
   "execution_count": 2,
   "metadata": {},
   "outputs": [
    {
     "data": {
      "text/plain": [
       "['../../config.ini']"
      ]
     },
     "execution_count": 2,
     "metadata": {},
     "output_type": "execute_result"
    }
   ],
   "source": [
    "config = configparser.ConfigParser()\n",
    "config.read('../../config.ini')"
   ]
  },
  {
   "cell_type": "code",
   "execution_count": 3,
   "metadata": {},
   "outputs": [],
   "source": [
    "# create service parameter\n",
    "api_key = config['google']['api_key']\n",
    "api_service_name = 'youtube'\n",
    "api_version = 'v3'\n",
    "\n",
    "# Indonesia Belajar's Channel ID\n",
    "channel_id = 'UCQ4Jo2IJeyRGzZBvjaaLzrw'"
   ]
  },
  {
   "cell_type": "code",
   "execution_count": 4,
   "metadata": {},
   "outputs": [],
   "source": [
    "# create api service\n",
    "youtube = build(\n",
    "    serviceName=api_service_name,\n",
    "    version=api_version,\n",
    "    developerKey=api_key)"
   ]
  },
  {
   "cell_type": "code",
   "execution_count": 5,
   "metadata": {},
   "outputs": [],
   "source": [
    "# create request paramter\n",
    "parameters_channel = [\n",
    "    'contentDetails',\n",
    "    'snippet',\n",
    "    'statistics']"
   ]
  },
  {
   "cell_type": "code",
   "execution_count": 9,
   "metadata": {},
   "outputs": [],
   "source": [
    "# request youtube playlist\n",
    "request = youtube.playlists().list(\n",
    "        part=\"snippet,contentDetails\",\n",
    "        channelId=channel_id,\n",
    "        maxResults=50)\n",
    "\n",
    "response = request.execute()"
   ]
  },
  {
   "cell_type": "code",
   "execution_count": 10,
   "metadata": {},
   "outputs": [
    {
     "data": {
      "application/json": {
       "etag": "naKkad714nUKZheKG3ibtefWZlE",
       "items": [
        {
         "contentDetails": {
          "itemCount": 4
         },
         "etag": "qzZVeEcVj2grR4IEPR4U_MjHXrQ",
         "id": "PL2O3HdJI4voFWT9zTM2wUqHDLt2Ds_3bi",
         "kind": "youtube#playlist",
         "snippet": {
          "channelId": "UCQ4Jo2IJeyRGzZBvjaaLzrw",
          "channelTitle": "Indonesia Belajar",
          "description": "",
          "localized": {
           "description": "",
           "title": "Podcast Blockchain"
          },
          "publishedAt": "2022-04-13T06:55:03Z",
          "thumbnails": {
           "default": {
            "height": 90,
            "url": "https://i.ytimg.com/vi/avInXGOSajc/default.jpg",
            "width": 120
           },
           "high": {
            "height": 360,
            "url": "https://i.ytimg.com/vi/avInXGOSajc/hqdefault.jpg",
            "width": 480
           },
           "maxres": {
            "height": 720,
            "url": "https://i.ytimg.com/vi/avInXGOSajc/maxresdefault.jpg",
            "width": 1280
           },
           "medium": {
            "height": 180,
            "url": "https://i.ytimg.com/vi/avInXGOSajc/mqdefault.jpg",
            "width": 320
           },
           "standard": {
            "height": 480,
            "url": "https://i.ytimg.com/vi/avInXGOSajc/sddefault.jpg",
            "width": 640
           }
          },
          "title": "Podcast Blockchain"
         }
        },
        {
         "contentDetails": {
          "itemCount": 7
         },
         "etag": "h-0HkKJE37HeAts8xhmCN1ar0wM",
         "id": "PL2O3HdJI4voED2tsGDA2MRjKIhyjhHKNK",
         "kind": "youtube#playlist",
         "snippet": {
          "channelId": "UCQ4Jo2IJeyRGzZBvjaaLzrw",
          "channelTitle": "Indonesia Belajar",
          "description": "",
          "localized": {
           "description": "",
           "title": "Podcast Data"
          },
          "publishedAt": "2022-04-12T02:49:27Z",
          "thumbnails": {
           "default": {
            "height": 90,
            "url": "https://i.ytimg.com/vi/TZgy70AU-FQ/default.jpg",
            "width": 120
           },
           "high": {
            "height": 360,
            "url": "https://i.ytimg.com/vi/TZgy70AU-FQ/hqdefault.jpg",
            "width": 480
           },
           "maxres": {
            "height": 720,
            "url": "https://i.ytimg.com/vi/TZgy70AU-FQ/maxresdefault.jpg",
            "width": 1280
           },
           "medium": {
            "height": 180,
            "url": "https://i.ytimg.com/vi/TZgy70AU-FQ/mqdefault.jpg",
            "width": 320
           },
           "standard": {
            "height": 480,
            "url": "https://i.ytimg.com/vi/TZgy70AU-FQ/sddefault.jpg",
            "width": 640
           }
          },
          "title": "Podcast Data"
         }
        },
        {
         "contentDetails": {
          "itemCount": 4
         },
         "etag": "cp9dt3_MUwfuCTO8FUvW_3lTzWg",
         "id": "PL2O3HdJI4voHK5d2Vom-MKQ2IVcxcTLPQ",
         "kind": "youtube#playlist",
         "snippet": {
          "channelId": "UCQ4Jo2IJeyRGzZBvjaaLzrw",
          "channelTitle": "Indonesia Belajar",
          "description": "",
          "localized": {
           "description": "",
           "title": "Belajar Container bersama AWS"
          },
          "publishedAt": "2022-02-25T00:47:21Z",
          "thumbnails": {
           "default": {
            "height": 90,
            "url": "https://i.ytimg.com/vi/Mut7ao9qbR4/default.jpg",
            "width": 120
           },
           "high": {
            "height": 360,
            "url": "https://i.ytimg.com/vi/Mut7ao9qbR4/hqdefault.jpg",
            "width": 480
           },
           "maxres": {
            "height": 720,
            "url": "https://i.ytimg.com/vi/Mut7ao9qbR4/maxresdefault.jpg",
            "width": 1280
           },
           "medium": {
            "height": 180,
            "url": "https://i.ytimg.com/vi/Mut7ao9qbR4/mqdefault.jpg",
            "width": 320
           },
           "standard": {
            "height": 480,
            "url": "https://i.ytimg.com/vi/Mut7ao9qbR4/sddefault.jpg",
            "width": 640
           }
          },
          "title": "Belajar Container bersama AWS"
         }
        },
        {
         "contentDetails": {
          "itemCount": 0
         },
         "etag": "RRokCV_c8do6nwYbJrL3h6rjX2g",
         "id": "PL2O3HdJI4voEQS7Ka4RxHRAWJz_NIymkz",
         "kind": "youtube#playlist",
         "snippet": {
          "channelId": "UCQ4Jo2IJeyRGzZBvjaaLzrw",
          "channelTitle": "Indonesia Belajar",
          "description": "",
          "localized": {
           "description": "",
           "title": "Belajar Container bersama AWS"
          },
          "publishedAt": "2022-02-16T14:02:56Z",
          "thumbnails": {
           "default": {
            "height": 90,
            "url": "https://i.ytimg.com/img/no_thumbnail.jpg",
            "width": 120
           },
           "high": {
            "height": 360,
            "url": "https://i.ytimg.com/img/no_thumbnail.jpg",
            "width": 480
           },
           "medium": {
            "height": 180,
            "url": "https://i.ytimg.com/img/no_thumbnail.jpg",
            "width": 320
           }
          },
          "title": "Belajar Container bersama AWS"
         }
        },
        {
         "contentDetails": {
          "itemCount": 7
         },
         "etag": "zbxWwCndnPO2yW79f-wReE2-Q7o",
         "id": "PL2O3HdJI4voFyH616uejhvYt5AQzZ2iTi",
         "kind": "youtube#playlist",
         "snippet": {
          "channelId": "UCQ4Jo2IJeyRGzZBvjaaLzrw",
          "channelTitle": "Indonesia Belajar",
          "description": "",
          "localized": {
           "description": "",
           "title": "Belajar Time Series dengan Google Sheets"
          },
          "publishedAt": "2022-01-13T17:27:41Z",
          "thumbnails": {
           "default": {
            "height": 90,
            "url": "https://i.ytimg.com/vi/rUdfTH175So/default.jpg",
            "width": 120
           },
           "high": {
            "height": 360,
            "url": "https://i.ytimg.com/vi/rUdfTH175So/hqdefault.jpg",
            "width": 480
           },
           "medium": {
            "height": 180,
            "url": "https://i.ytimg.com/vi/rUdfTH175So/mqdefault.jpg",
            "width": 320
           }
          },
          "title": "Belajar Time Series dengan Google Sheets"
         }
        },
        {
         "contentDetails": {
          "itemCount": 5
         },
         "etag": "HyysaO5CTLb8_sRluSgbJO4kdlY",
         "id": "PL2O3HdJI4voH_ZLHPU3Lr6oHLMwSYwJAE",
         "kind": "youtube#playlist",
         "snippet": {
          "channelId": "UCQ4Jo2IJeyRGzZBvjaaLzrw",
          "channelTitle": "Indonesia Belajar",
          "description": "",
          "localized": {
           "description": "",
           "title": "Belajar Cloud Computing Dasar"
          },
          "publishedAt": "2021-09-15T02:08:10Z",
          "thumbnails": {
           "default": {
            "height": 90,
            "url": "https://i.ytimg.com/vi/fGCn9VTJ_ow/default.jpg",
            "width": 120
           },
           "high": {
            "height": 360,
            "url": "https://i.ytimg.com/vi/fGCn9VTJ_ow/hqdefault.jpg",
            "width": 480
           },
           "maxres": {
            "height": 720,
            "url": "https://i.ytimg.com/vi/fGCn9VTJ_ow/maxresdefault.jpg",
            "width": 1280
           },
           "medium": {
            "height": 180,
            "url": "https://i.ytimg.com/vi/fGCn9VTJ_ow/mqdefault.jpg",
            "width": 320
           },
           "standard": {
            "height": 480,
            "url": "https://i.ytimg.com/vi/fGCn9VTJ_ow/sddefault.jpg",
            "width": 640
           }
          },
          "title": "Belajar Cloud Computing Dasar"
         }
        },
        {
         "contentDetails": {
          "itemCount": 4
         },
         "etag": "2MdzaP8ElWGLsREeroKtj86hsik",
         "id": "PL2O3HdJI4voGrjBRv41ONT-eU391zXJUb",
         "kind": "youtube#playlist",
         "snippet": {
          "channelId": "UCQ4Jo2IJeyRGzZBvjaaLzrw",
          "channelTitle": "Indonesia Belajar",
          "description": "",
          "localized": {
           "description": "",
           "title": "Kustomisasi Desktop Environment"
          },
          "publishedAt": "2021-08-10T09:43:54Z",
          "thumbnails": {
           "default": {
            "height": 90,
            "url": "https://i.ytimg.com/vi/qjGJG1SyoyU/default.jpg",
            "width": 120
           },
           "high": {
            "height": 360,
            "url": "https://i.ytimg.com/vi/qjGJG1SyoyU/hqdefault.jpg",
            "width": 480
           },
           "maxres": {
            "height": 720,
            "url": "https://i.ytimg.com/vi/qjGJG1SyoyU/maxresdefault.jpg",
            "width": 1280
           },
           "medium": {
            "height": 180,
            "url": "https://i.ytimg.com/vi/qjGJG1SyoyU/mqdefault.jpg",
            "width": 320
           },
           "standard": {
            "height": 480,
            "url": "https://i.ytimg.com/vi/qjGJG1SyoyU/sddefault.jpg",
            "width": 640
           }
          },
          "title": "Kustomisasi Desktop Environment"
         }
        },
        {
         "contentDetails": {
          "itemCount": 15
         },
         "etag": "-DKmrUfzr4FLyhG_GDf_1sdFO5o",
         "id": "PL2O3HdJI4voFv4rLFFDKPY23yWV4ZIzrv",
         "kind": "youtube#playlist",
         "snippet": {
          "channelId": "UCQ4Jo2IJeyRGzZBvjaaLzrw",
          "channelTitle": "Indonesia Belajar",
          "description": "",
          "localized": {
           "description": "",
           "title": "Belajar Cloud Computing bersama AWS"
          },
          "publishedAt": "2021-06-25T03:49:41Z",
          "thumbnails": {
           "default": {
            "height": 90,
            "url": "https://i.ytimg.com/vi/ehL5xb6DUcQ/default.jpg",
            "width": 120
           },
           "high": {
            "height": 360,
            "url": "https://i.ytimg.com/vi/ehL5xb6DUcQ/hqdefault.jpg",
            "width": 480
           },
           "maxres": {
            "height": 720,
            "url": "https://i.ytimg.com/vi/ehL5xb6DUcQ/maxresdefault.jpg",
            "width": 1280
           },
           "medium": {
            "height": 180,
            "url": "https://i.ytimg.com/vi/ehL5xb6DUcQ/mqdefault.jpg",
            "width": 320
           },
           "standard": {
            "height": 480,
            "url": "https://i.ytimg.com/vi/ehL5xb6DUcQ/sddefault.jpg",
            "width": 640
           }
          },
          "title": "Belajar Cloud Computing bersama AWS"
         }
        },
        {
         "contentDetails": {
          "itemCount": 97
         },
         "etag": "f39iKh8UiITWsWl5OBI2n8egAA8",
         "id": "PL2O3HdJI4voGJg3hYGR5kfBxXv90DJ1lU",
         "kind": "youtube#playlist",
         "snippet": {
          "channelId": "UCQ4Jo2IJeyRGzZBvjaaLzrw",
          "channelTitle": "Indonesia Belajar",
          "description": "Berisi video pembelajaran yang berfokus pada pengembangan kompetensi di bidang data science dengan menggunakan bahasa pemrograman Python.\n\nMateri yang disajikan telah dipersiapkan secara khusus sehingga ramah bagi pemula.\n\nTopik bahasan:\n- Python Pandas Data Frame\n- Visualisasi data dengan Python Matplotlib\n- Machine Learning dengan Python Scikit-Learn\n\nkeywords:\n- Data Science Indonesia",
          "localized": {
           "description": "Berisi video pembelajaran yang berfokus pada pengembangan kompetensi di bidang data science dengan menggunakan bahasa pemrograman Python.\n\nMateri yang disajikan telah dipersiapkan secara khusus sehingga ramah bagi pemula.\n\nTopik bahasan:\n- Python Pandas Data Frame\n- Visualisasi data dengan Python Matplotlib\n- Machine Learning dengan Python Scikit-Learn\n\nkeywords:\n- Data Science Indonesia",
           "title": "Master Class Belajar Python Data Science | Lengkap & Sistematis"
          },
          "publishedAt": "2021-05-09T08:46:17Z",
          "thumbnails": {
           "default": {
            "height": 90,
            "url": "https://i.ytimg.com/vi/RTxNv6ngTSc/default.jpg",
            "width": 120
           },
           "high": {
            "height": 360,
            "url": "https://i.ytimg.com/vi/RTxNv6ngTSc/hqdefault.jpg",
            "width": 480
           },
           "maxres": {
            "height": 720,
            "url": "https://i.ytimg.com/vi/RTxNv6ngTSc/maxresdefault.jpg",
            "width": 1280
           },
           "medium": {
            "height": 180,
            "url": "https://i.ytimg.com/vi/RTxNv6ngTSc/mqdefault.jpg",
            "width": 320
           },
           "standard": {
            "height": 480,
            "url": "https://i.ytimg.com/vi/RTxNv6ngTSc/sddefault.jpg",
            "width": 640
           }
          },
          "title": "Master Class Belajar Python Data Science | Lengkap & Sistematis"
         }
        },
        {
         "contentDetails": {
          "itemCount": 15
         },
         "etag": "P-mlo1msKODLGQwjqUSs26403Mo",
         "id": "PL2O3HdJI4voFl-qHG0XLSrPAS6JRmRIDp",
         "kind": "youtube#playlist",
         "snippet": {
          "channelId": "UCQ4Jo2IJeyRGzZBvjaaLzrw",
          "channelTitle": "Indonesia Belajar",
          "description": "",
          "localized": {
           "description": "",
           "title": "Catatan Seorang Dosen"
          },
          "publishedAt": "2021-04-15T01:38:04Z",
          "thumbnails": {
           "default": {
            "height": 90,
            "url": "https://i.ytimg.com/vi/Vnsa4N1N7NU/default.jpg",
            "width": 120
           },
           "high": {
            "height": 360,
            "url": "https://i.ytimg.com/vi/Vnsa4N1N7NU/hqdefault.jpg",
            "width": 480
           },
           "maxres": {
            "height": 720,
            "url": "https://i.ytimg.com/vi/Vnsa4N1N7NU/maxresdefault.jpg",
            "width": 1280
           },
           "medium": {
            "height": 180,
            "url": "https://i.ytimg.com/vi/Vnsa4N1N7NU/mqdefault.jpg",
            "width": 320
           },
           "standard": {
            "height": 480,
            "url": "https://i.ytimg.com/vi/Vnsa4N1N7NU/sddefault.jpg",
            "width": 640
           }
          },
          "title": "Catatan Seorang Dosen"
         }
        },
        {
         "contentDetails": {
          "itemCount": 17
         },
         "etag": "xtAPOvtIxn8yAEn2xogerB5CxY8",
         "id": "PL2O3HdJI4voHNEv59SdXKRQVRZAFmwN9E",
         "kind": "youtube#playlist",
         "snippet": {
          "channelId": "UCQ4Jo2IJeyRGzZBvjaaLzrw",
          "channelTitle": "Indonesia Belajar",
          "description": "Materi dalam seri pembelajaran ini kami susun sedemikian rupa agar mudah diikuti, dan selalu kami awali dengan materi yang sifatnya mendasar terlebih dahulu. Kami berharap materi pembelajaran Machine Learning Dasar ini dapat bermanfaat dan membantu proses belajar kalian.\n\nScikit-Learn merupakan module dalam pemrograman Python yang memfasilitasi kita untuk mengerjakan berbagai machine learning project. Awalnya Scikit-Learn ini digarap sebagai bagian dari Google Summer of Code projec pada tahun 2007. Istilah Scikit sendiri merupakan kependekan dari SciPy Toolkits; karena memang project ini diperuntukkan sebagai extension untuk SciPy yang merupakan Scientific module dalam pemrograman python. Code base dari project ini lalu ditulis ulang dan mulai dibentuk tim khusus untuk mengembangkan project ini dengan lebih serius. Di awal tahun 2010, project Scikit-Learn ini dirilis ke publik dan berhasil menarik banyak contributor yang akhirnya menjadikan project ini terus berkembang sampai saat ini. Bahkan di tahun 2012, Scikit-Learn dikenal sebagai machine learning library yang paling populer dan well maintained.\n\nBilamana ada pertanyaan ataupun masukan terkait materi yang kami sampaikan, kalian dapat mengajukan pertanyaan dan masukan kalian, melalui kolom komentar video. Kami akan selalu berusaha untuk merespon setiap pertanyaan dan masukan yang kalian ajukan.\n\nBagi teman-teman yang ingin mentraktir kami, silakan untuk memanfaatkan link Saweria berikut ini: https://saweria.co/belajaridn​​\n\nBagi teman-teman yang tertarik, silakan untuk bergabung juga dengan Discord server Indonesia Belajar: https://discord.com/invite/ybWmMHCfrQ​\n\nLinks terkait:\n- Scikit-Learn: https://scikit-learn.org/stable/index...​\n- SciPy: https://www.scipy.org/​\n- Matplotlib: https://matplotlib.org/​\n- Pandas: https://pandas.pydata.org/​\n- Anaconda: https://www.anaconda.com/​\n- Machine Learning Yearning: https://www.deeplearning.ai/machine-l...​\n\nKeywords:\n- Belajar Machine Learning Dasar\n- Belajar Machine Learning Pemula\n- Tutorial Machine Learning Dasar\n- Tutorial Machine Learning Pemula\n- Belajar Machine Learning dengan Python\n- Tutorial Machine Learning dengan Python\n- Machine Learning Indonesia\n- Machine Learning Bahasa Indonesia\n- Belajar Scikit-Learn\n- Belajar Data Science",
          "localized": {
           "description": "Materi dalam seri pembelajaran ini kami susun sedemikian rupa agar mudah diikuti, dan selalu kami awali dengan materi yang sifatnya mendasar terlebih dahulu. Kami berharap materi pembelajaran Machine Learning Dasar ini dapat bermanfaat dan membantu proses belajar kalian.\n\nScikit-Learn merupakan module dalam pemrograman Python yang memfasilitasi kita untuk mengerjakan berbagai machine learning project. Awalnya Scikit-Learn ini digarap sebagai bagian dari Google Summer of Code projec pada tahun 2007. Istilah Scikit sendiri merupakan kependekan dari SciPy Toolkits; karena memang project ini diperuntukkan sebagai extension untuk SciPy yang merupakan Scientific module dalam pemrograman python. Code base dari project ini lalu ditulis ulang dan mulai dibentuk tim khusus untuk mengembangkan project ini dengan lebih serius. Di awal tahun 2010, project Scikit-Learn ini dirilis ke publik dan berhasil menarik banyak contributor yang akhirnya menjadikan project ini terus berkembang sampai saat ini. Bahkan di tahun 2012, Scikit-Learn dikenal sebagai machine learning library yang paling populer dan well maintained.\n\nBilamana ada pertanyaan ataupun masukan terkait materi yang kami sampaikan, kalian dapat mengajukan pertanyaan dan masukan kalian, melalui kolom komentar video. Kami akan selalu berusaha untuk merespon setiap pertanyaan dan masukan yang kalian ajukan.\n\nBagi teman-teman yang ingin mentraktir kami, silakan untuk memanfaatkan link Saweria berikut ini: https://saweria.co/belajaridn​​\n\nBagi teman-teman yang tertarik, silakan untuk bergabung juga dengan Discord server Indonesia Belajar: https://discord.com/invite/ybWmMHCfrQ​\n\nLinks terkait:\n- Scikit-Learn: https://scikit-learn.org/stable/index...​\n- SciPy: https://www.scipy.org/​\n- Matplotlib: https://matplotlib.org/​\n- Pandas: https://pandas.pydata.org/​\n- Anaconda: https://www.anaconda.com/​\n- Machine Learning Yearning: https://www.deeplearning.ai/machine-l...​\n\nKeywords:\n- Belajar Machine Learning Dasar\n- Belajar Machine Learning Pemula\n- Tutorial Machine Learning Dasar\n- Tutorial Machine Learning Pemula\n- Belajar Machine Learning dengan Python\n- Tutorial Machine Learning dengan Python\n- Machine Learning Indonesia\n- Machine Learning Bahasa Indonesia\n- Belajar Scikit-Learn\n- Belajar Data Science",
           "title": "Tutorial Belajar Machine Learning Dasar | Python Scikit-Learn"
          },
          "publishedAt": "2021-02-02T15:25:57Z",
          "thumbnails": {
           "default": {
            "height": 90,
            "url": "https://i.ytimg.com/vi/Rk1VmHk_kUo/default.jpg",
            "width": 120
           },
           "high": {
            "height": 360,
            "url": "https://i.ytimg.com/vi/Rk1VmHk_kUo/hqdefault.jpg",
            "width": 480
           },
           "maxres": {
            "height": 720,
            "url": "https://i.ytimg.com/vi/Rk1VmHk_kUo/maxresdefault.jpg",
            "width": 1280
           },
           "medium": {
            "height": 180,
            "url": "https://i.ytimg.com/vi/Rk1VmHk_kUo/mqdefault.jpg",
            "width": 320
           },
           "standard": {
            "height": 480,
            "url": "https://i.ytimg.com/vi/Rk1VmHk_kUo/sddefault.jpg",
            "width": 640
           }
          },
          "title": "Tutorial Belajar Machine Learning Dasar | Python Scikit-Learn"
         }
        },
        {
         "contentDetails": {
          "itemCount": 8
         },
         "etag": "piKiTYMO3PDR9XtZmG41DDcaQnA",
         "id": "PL2O3HdJI4voHAM5fkyNBH9IBrUXV1MU1Y",
         "kind": "youtube#playlist",
         "snippet": {
          "channelId": "UCQ4Jo2IJeyRGzZBvjaaLzrw",
          "channelTitle": "Indonesia Belajar",
          "description": "",
          "localized": {
           "description": "",
           "title": "Linux Gaming"
          },
          "publishedAt": "2020-12-27T05:40:19Z",
          "thumbnails": {
           "default": {
            "height": 90,
            "url": "https://i.ytimg.com/vi/9i5LxQnici8/default.jpg",
            "width": 120
           },
           "high": {
            "height": 360,
            "url": "https://i.ytimg.com/vi/9i5LxQnici8/hqdefault.jpg",
            "width": 480
           },
           "maxres": {
            "height": 720,
            "url": "https://i.ytimg.com/vi/9i5LxQnici8/maxresdefault.jpg",
            "width": 1280
           },
           "medium": {
            "height": 180,
            "url": "https://i.ytimg.com/vi/9i5LxQnici8/mqdefault.jpg",
            "width": 320
           },
           "standard": {
            "height": 480,
            "url": "https://i.ytimg.com/vi/9i5LxQnici8/sddefault.jpg",
            "width": 640
           }
          },
          "title": "Linux Gaming"
         }
        },
        {
         "contentDetails": {
          "itemCount": 13
         },
         "etag": "jUUpzxeV_ATIlyyHsivgFhDnAeY",
         "id": "PL2O3HdJI4voG0guZRmIT3OCzyQSmouW78",
         "kind": "youtube#playlist",
         "snippet": {
          "channelId": "UCQ4Jo2IJeyRGzZBvjaaLzrw",
          "channelTitle": "Indonesia Belajar",
          "description": "",
          "localized": {
           "description": "",
           "title": "Tutorial openSUSE"
          },
          "publishedAt": "2020-12-18T15:42:49Z",
          "thumbnails": {
           "default": {
            "height": 90,
            "url": "https://i.ytimg.com/vi/HkJsGcbT9xA/default.jpg",
            "width": 120
           },
           "high": {
            "height": 360,
            "url": "https://i.ytimg.com/vi/HkJsGcbT9xA/hqdefault.jpg",
            "width": 480
           },
           "maxres": {
            "height": 720,
            "url": "https://i.ytimg.com/vi/HkJsGcbT9xA/maxresdefault.jpg",
            "width": 1280
           },
           "medium": {
            "height": 180,
            "url": "https://i.ytimg.com/vi/HkJsGcbT9xA/mqdefault.jpg",
            "width": 320
           },
           "standard": {
            "height": 480,
            "url": "https://i.ytimg.com/vi/HkJsGcbT9xA/sddefault.jpg",
            "width": 640
           }
          },
          "title": "Tutorial openSUSE"
         }
        },
        {
         "contentDetails": {
          "itemCount": 2
         },
         "etag": "1fz_PCj4y6nB5HeFop6ueJ_tGDE",
         "id": "PL2O3HdJI4voGQ-TFLQtFCHvqmpCsJygGE",
         "kind": "youtube#playlist",
         "snippet": {
          "channelId": "UCQ4Jo2IJeyRGzZBvjaaLzrw",
          "channelTitle": "Indonesia Belajar",
          "description": "",
          "localized": {
           "description": "",
           "title": "AWS DevAx Connect | Live Online Workshop"
          },
          "publishedAt": "2020-11-25T13:06:10Z",
          "thumbnails": {
           "default": {
            "height": 90,
            "url": "https://i.ytimg.com/vi/N5x0Tdo59TU/default.jpg",
            "width": 120
           },
           "high": {
            "height": 360,
            "url": "https://i.ytimg.com/vi/N5x0Tdo59TU/hqdefault.jpg",
            "width": 480
           },
           "medium": {
            "height": 180,
            "url": "https://i.ytimg.com/vi/N5x0Tdo59TU/mqdefault.jpg",
            "width": 320
           },
           "standard": {
            "height": 480,
            "url": "https://i.ytimg.com/vi/N5x0Tdo59TU/sddefault.jpg",
            "width": 640
           }
          },
          "title": "AWS DevAx Connect | Live Online Workshop"
         }
        },
        {
         "contentDetails": {
          "itemCount": 8
         },
         "etag": "WlCzpK7N9iNY7KuORIoEJzeeCTI",
         "id": "PL2O3HdJI4voHDdTtwsGZ60uSPyYHB6KHb",
         "kind": "youtube#playlist",
         "snippet": {
          "channelId": "UCQ4Jo2IJeyRGzZBvjaaLzrw",
          "channelTitle": "Indonesia Belajar",
          "description": "",
          "localized": {
           "description": "",
           "title": "Tutorial Belajar Probabilitas Dasar"
          },
          "publishedAt": "2020-11-24T06:49:32Z",
          "thumbnails": {
           "default": {
            "height": 90,
            "url": "https://i.ytimg.com/vi/UP2KSz9uDCM/default.jpg",
            "width": 120
           },
           "high": {
            "height": 360,
            "url": "https://i.ytimg.com/vi/UP2KSz9uDCM/hqdefault.jpg",
            "width": 480
           },
           "maxres": {
            "height": 720,
            "url": "https://i.ytimg.com/vi/UP2KSz9uDCM/maxresdefault.jpg",
            "width": 1280
           },
           "medium": {
            "height": 180,
            "url": "https://i.ytimg.com/vi/UP2KSz9uDCM/mqdefault.jpg",
            "width": 320
           },
           "standard": {
            "height": 480,
            "url": "https://i.ytimg.com/vi/UP2KSz9uDCM/sddefault.jpg",
            "width": 640
           }
          },
          "title": "Tutorial Belajar Probabilitas Dasar"
         }
        },
        {
         "contentDetails": {
          "itemCount": 26
         },
         "etag": "4N9mggXDQ81moOw-6H2xlKh3sxI",
         "id": "PL2O3HdJI4voHrfoMFvkDeblmjarDN8nC8",
         "kind": "youtube#playlist",
         "snippet": {
          "channelId": "UCQ4Jo2IJeyRGzZBvjaaLzrw",
          "channelTitle": "Indonesia Belajar",
          "description": "",
          "localized": {
           "description": "",
           "title": "Tutorial Belajar Visualisasi Data Dasar | Python Matplotlib"
          },
          "publishedAt": "2020-09-22T01:27:15Z",
          "thumbnails": {
           "default": {
            "height": 90,
            "url": "https://i.ytimg.com/vi/zB3ptHg3piI/default.jpg",
            "width": 120
           },
           "high": {
            "height": 360,
            "url": "https://i.ytimg.com/vi/zB3ptHg3piI/hqdefault.jpg",
            "width": 480
           },
           "maxres": {
            "height": 720,
            "url": "https://i.ytimg.com/vi/zB3ptHg3piI/maxresdefault.jpg",
            "width": 1280
           },
           "medium": {
            "height": 180,
            "url": "https://i.ytimg.com/vi/zB3ptHg3piI/mqdefault.jpg",
            "width": 320
           },
           "standard": {
            "height": 480,
            "url": "https://i.ytimg.com/vi/zB3ptHg3piI/sddefault.jpg",
            "width": 640
           }
          },
          "title": "Tutorial Belajar Visualisasi Data Dasar | Python Matplotlib"
         }
        },
        {
         "contentDetails": {
          "itemCount": 11
         },
         "etag": "_N7cESaL-O2dz6vHe0qMdMr7yuk",
         "id": "PL2O3HdJI4voGs6CiEUPXwt1fhLLqu30E_",
         "kind": "youtube#playlist",
         "snippet": {
          "channelId": "UCQ4Jo2IJeyRGzZBvjaaLzrw",
          "channelTitle": "Indonesia Belajar",
          "description": "",
          "localized": {
           "description": "",
           "title": "Tutorial Belajar Database MySQL | MariaDB"
          },
          "publishedAt": "2020-09-03T04:00:39Z",
          "thumbnails": {
           "default": {
            "height": 90,
            "url": "https://i.ytimg.com/vi/D3W0ZSrXWDU/default.jpg",
            "width": 120
           },
           "high": {
            "height": 360,
            "url": "https://i.ytimg.com/vi/D3W0ZSrXWDU/hqdefault.jpg",
            "width": 480
           },
           "maxres": {
            "height": 720,
            "url": "https://i.ytimg.com/vi/D3W0ZSrXWDU/maxresdefault.jpg",
            "width": 1280
           },
           "medium": {
            "height": 180,
            "url": "https://i.ytimg.com/vi/D3W0ZSrXWDU/mqdefault.jpg",
            "width": 320
           },
           "standard": {
            "height": 480,
            "url": "https://i.ytimg.com/vi/D3W0ZSrXWDU/sddefault.jpg",
            "width": 640
           }
          },
          "title": "Tutorial Belajar Database MySQL | MariaDB"
         }
        },
        {
         "contentDetails": {
          "itemCount": 6
         },
         "etag": "hiYtM1N25Ue6jT1WdOmkbBmErnM",
         "id": "PL2O3HdJI4voFtnfZk60XK8ZvS5Elo16iw",
         "kind": "youtube#playlist",
         "snippet": {
          "channelId": "UCQ4Jo2IJeyRGzZBvjaaLzrw",
          "channelTitle": "Indonesia Belajar",
          "description": "",
          "localized": {
           "description": "",
           "title": "FOSS | Free Open Source Software"
          },
          "publishedAt": "2020-08-30T06:24:26Z",
          "thumbnails": {
           "default": {
            "height": 90,
            "url": "https://i.ytimg.com/vi/V_LH4XMuzrA/default.jpg",
            "width": 120
           },
           "high": {
            "height": 360,
            "url": "https://i.ytimg.com/vi/V_LH4XMuzrA/hqdefault.jpg",
            "width": 480
           },
           "medium": {
            "height": 180,
            "url": "https://i.ytimg.com/vi/V_LH4XMuzrA/mqdefault.jpg",
            "width": 320
           }
          },
          "title": "FOSS | Free Open Source Software"
         }
        },
        {
         "contentDetails": {
          "itemCount": 7
         },
         "etag": "4hQ-P44769t8g9ea6-ywRKJdLY0",
         "id": "PL2O3HdJI4voFJT9r5fpzyZ14zqDrTjEb8",
         "kind": "youtube#playlist",
         "snippet": {
          "channelId": "UCQ4Jo2IJeyRGzZBvjaaLzrw",
          "channelTitle": "Indonesia Belajar",
          "description": "",
          "localized": {
           "description": "",
           "title": "Q&A | Tanya Jawab | Indonesia Belajar"
          },
          "publishedAt": "2020-08-23T17:01:39Z",
          "thumbnails": {
           "default": {
            "height": 90,
            "url": "https://i.ytimg.com/vi/AZ5JN2T8ams/default.jpg",
            "width": 120
           },
           "high": {
            "height": 360,
            "url": "https://i.ytimg.com/vi/AZ5JN2T8ams/hqdefault.jpg",
            "width": 480
           },
           "maxres": {
            "height": 720,
            "url": "https://i.ytimg.com/vi/AZ5JN2T8ams/maxresdefault.jpg",
            "width": 1280
           },
           "medium": {
            "height": 180,
            "url": "https://i.ytimg.com/vi/AZ5JN2T8ams/mqdefault.jpg",
            "width": 320
           },
           "standard": {
            "height": 480,
            "url": "https://i.ytimg.com/vi/AZ5JN2T8ams/sddefault.jpg",
            "width": 640
           }
          },
          "title": "Q&A | Tanya Jawab | Indonesia Belajar"
         }
        },
        {
         "contentDetails": {
          "itemCount": 44
         },
         "etag": "8YMHHntHaUx0wGL7IbHuffMcT9E",
         "id": "PL2O3HdJI4voEBAvDIUadEvVY4JOwlKwWA",
         "kind": "youtube#playlist",
         "snippet": {
          "channelId": "UCQ4Jo2IJeyRGzZBvjaaLzrw",
          "channelTitle": "Indonesia Belajar",
          "description": "Playlist ini merupakan podcast berseri yang akan menghadirkan banyak narasumber yang merupakan pakar di bidangnya. Harapannya melalui sesi bincang-bincang ini dapat memberikan insight bari teman-teman sobat Indonesia Belajar terkait dunia IT.\n\nBeberapa topik yang pernah dibahasa dalam sesi podcast ini diantaranya adalah:\n\n- Cloud Computing dan AWS bersama Teddy Aryono (Solution Architect - Amazon Web Services)\n- Telecommunications and Data Infrastructures bersama Hasudungan P.C. Sijabat (Solution Manager - China Mobile Indonesia)\n- Business Intelligence bersama Tantiny Tanjung (Community Leader - Tableau User Group Jakarta)",
          "localized": {
           "description": "Playlist ini merupakan podcast berseri yang akan menghadirkan banyak narasumber yang merupakan pakar di bidangnya. Harapannya melalui sesi bincang-bincang ini dapat memberikan insight bari teman-teman sobat Indonesia Belajar terkait dunia IT.\n\nBeberapa topik yang pernah dibahasa dalam sesi podcast ini diantaranya adalah:\n\n- Cloud Computing dan AWS bersama Teddy Aryono (Solution Architect - Amazon Web Services)\n- Telecommunications and Data Infrastructures bersama Hasudungan P.C. Sijabat (Solution Manager - China Mobile Indonesia)\n- Business Intelligence bersama Tantiny Tanjung (Community Leader - Tableau User Group Jakarta)",
           "title": "Podcast | Bertemu Pakar | Ngobrol Seputar Dunia IT"
          },
          "publishedAt": "2020-07-31T00:19:20Z",
          "thumbnails": {
           "default": {
            "height": 90,
            "url": "https://i.ytimg.com/vi/r0acUL77Fnc/default.jpg",
            "width": 120
           },
           "high": {
            "height": 360,
            "url": "https://i.ytimg.com/vi/r0acUL77Fnc/hqdefault.jpg",
            "width": 480
           },
           "medium": {
            "height": 180,
            "url": "https://i.ytimg.com/vi/r0acUL77Fnc/mqdefault.jpg",
            "width": 320
           }
          },
          "title": "Podcast | Bertemu Pakar | Ngobrol Seputar Dunia IT"
         }
        },
        {
         "contentDetails": {
          "itemCount": 16
         },
         "etag": "QmDSPCtF5Q3JsCB_uB_IK3U-kao",
         "id": "PL2O3HdJI4voHjX09IpdsiSBNnLRaR-CbJ",
         "kind": "youtube#playlist",
         "snippet": {
          "channelId": "UCQ4Jo2IJeyRGzZBvjaaLzrw",
          "channelTitle": "Indonesia Belajar",
          "description": "",
          "localized": {
           "description": "",
           "title": "Python GUI dengan TKinter"
          },
          "publishedAt": "2020-07-07T13:01:29Z",
          "thumbnails": {
           "default": {
            "height": 90,
            "url": "https://i.ytimg.com/vi/fy_m-Cejnkc/default.jpg",
            "width": 120
           },
           "high": {
            "height": 360,
            "url": "https://i.ytimg.com/vi/fy_m-Cejnkc/hqdefault.jpg",
            "width": 480
           },
           "maxres": {
            "height": 720,
            "url": "https://i.ytimg.com/vi/fy_m-Cejnkc/maxresdefault.jpg",
            "width": 1280
           },
           "medium": {
            "height": 180,
            "url": "https://i.ytimg.com/vi/fy_m-Cejnkc/mqdefault.jpg",
            "width": 320
           },
           "standard": {
            "height": 480,
            "url": "https://i.ytimg.com/vi/fy_m-Cejnkc/sddefault.jpg",
            "width": 640
           }
          },
          "title": "Python GUI dengan TKinter"
         }
        },
        {
         "contentDetails": {
          "itemCount": 10
         },
         "etag": "0AKc2N7ceBu1Sdt6sKhd2BM7MhU",
         "id": "PL2O3HdJI4voHl6yAoFI7UR4ne2CkWyVFB",
         "kind": "youtube#playlist",
         "snippet": {
          "channelId": "UCQ4Jo2IJeyRGzZBvjaaLzrw",
          "channelTitle": "Indonesia Belajar",
          "description": "Selamat datang di seri pembelajaran AWS (Amazon Web Services) berbahasa Indonesia. AWS merupakan salah satu penyedia layanan cloud computing (komputasi awan). Ada banyak sekali layanan (services) yang ditawarkan oleh AWS.\n\nVideo pembelajaran berseri ini akan membantu teman-teman yang baru mengenal AWS untuk dapat mulai mencoba beberapa layanan dasar yang ditawarkan oleh AWS.\n\nBeberapa layanan yang dibahas dalam seri pembelajaran ini di antaranya adalah:\n- Amazon EC2 (Elastic Clomputer Clode)\n- Amazon S3 (Simple Storage Service)\n- Amazon RDS (Relational Database Service)\n- Amazon Aurora\n- AWS Cloud9 IDE\n\nkeywords:\n- Cloud Computing Indonesia\n- Amazon Web Services Indonesia\n- AWS Indonesia\n- AWS User Group Indonesia\n- AWS Educate Indonesia",
          "localized": {
           "description": "Selamat datang di seri pembelajaran AWS (Amazon Web Services) berbahasa Indonesia. AWS merupakan salah satu penyedia layanan cloud computing (komputasi awan). Ada banyak sekali layanan (services) yang ditawarkan oleh AWS.\n\nVideo pembelajaran berseri ini akan membantu teman-teman yang baru mengenal AWS untuk dapat mulai mencoba beberapa layanan dasar yang ditawarkan oleh AWS.\n\nBeberapa layanan yang dibahas dalam seri pembelajaran ini di antaranya adalah:\n- Amazon EC2 (Elastic Clomputer Clode)\n- Amazon S3 (Simple Storage Service)\n- Amazon RDS (Relational Database Service)\n- Amazon Aurora\n- AWS Cloud9 IDE\n\nkeywords:\n- Cloud Computing Indonesia\n- Amazon Web Services Indonesia\n- AWS Indonesia\n- AWS User Group Indonesia\n- AWS Educate Indonesia",
           "title": "Tutorial Belajar AWS | Amazon Web Services | Belajar Cloud Computing | Bahasa Indonesia"
          },
          "publishedAt": "2020-06-24T01:38:48Z",
          "thumbnails": {
           "default": {
            "height": 90,
            "url": "https://i.ytimg.com/vi/e2bPqN1ZxpQ/default.jpg",
            "width": 120
           },
           "high": {
            "height": 360,
            "url": "https://i.ytimg.com/vi/e2bPqN1ZxpQ/hqdefault.jpg",
            "width": 480
           },
           "maxres": {
            "height": 720,
            "url": "https://i.ytimg.com/vi/e2bPqN1ZxpQ/maxresdefault.jpg",
            "width": 1280
           },
           "medium": {
            "height": 180,
            "url": "https://i.ytimg.com/vi/e2bPqN1ZxpQ/mqdefault.jpg",
            "width": 320
           },
           "standard": {
            "height": 480,
            "url": "https://i.ytimg.com/vi/e2bPqN1ZxpQ/sddefault.jpg",
            "width": 640
           }
          },
          "title": "Tutorial Belajar AWS | Amazon Web Services | Belajar Cloud Computing | Bahasa Indonesia"
         }
        },
        {
         "contentDetails": {
          "itemCount": 58
         },
         "etag": "0r2UCCSSi9NRh6GBtIp1DpwEfFE",
         "id": "PL2O3HdJI4voGdD_9xhVCTBoDTDNHpajm5",
         "kind": "youtube#playlist",
         "snippet": {
          "channelId": "UCQ4Jo2IJeyRGzZBvjaaLzrw",
          "channelTitle": "Indonesia Belajar",
          "description": "Selamat datang dalam video berseri (playlist) bertema Belajar Python Pandas: Tips dan Tricks (Bahasa Indonesia). \n\nApa itu Python Pandas?\nPandas merupakan module dalam pemrograman Python yang memfasilitasi kita dalam bekerja di bidang data science dan machine learning.\nVideo pembelajaran dalam playlist ini membahas tips dan tricks yang dapat meningkatkan efektivitas dan efisiensi kita sewaktu bekerja dengan Python Pandas. \n\nSalah satu komponen penting dari Pandas adalah Pandas Data Frame, ini merupakan struktur data utama untuk melakukan pengolahan data dalam pemrograman Python. Kami pernah membuatkan sebuah video workshop yang secara spesifik memberikan pengenalan Pandas Data Frame. Video tersebut dapat diakses melalui link berikut ini: https://youtu.be/UvpBJZ_UKk0\n\nBilamana ada pertanyaan ataupun masukan terkait materi yang kami sampaikan, silakan untuk mengajukannya melalui kolom komentar video.\nKami akan selalu berusaha untuk merespon setiap pertanyaan dan masukan yang diajukan.\n\nKeywords: \n- Python Indonesia\n- Data Science Indonesia\n- Machine Learning Indonesia\n- Python Pandas Indonesia\n- Pandas Data Frame\n- Belajar Data Science\n- Tutorial Data Science\n- Belajar Machine Learning\n- Tutorial Machine Learning",
          "localized": {
           "description": "Selamat datang dalam video berseri (playlist) bertema Belajar Python Pandas: Tips dan Tricks (Bahasa Indonesia). \n\nApa itu Python Pandas?\nPandas merupakan module dalam pemrograman Python yang memfasilitasi kita dalam bekerja di bidang data science dan machine learning.\nVideo pembelajaran dalam playlist ini membahas tips dan tricks yang dapat meningkatkan efektivitas dan efisiensi kita sewaktu bekerja dengan Python Pandas. \n\nSalah satu komponen penting dari Pandas adalah Pandas Data Frame, ini merupakan struktur data utama untuk melakukan pengolahan data dalam pemrograman Python. Kami pernah membuatkan sebuah video workshop yang secara spesifik memberikan pengenalan Pandas Data Frame. Video tersebut dapat diakses melalui link berikut ini: https://youtu.be/UvpBJZ_UKk0\n\nBilamana ada pertanyaan ataupun masukan terkait materi yang kami sampaikan, silakan untuk mengajukannya melalui kolom komentar video.\nKami akan selalu berusaha untuk merespon setiap pertanyaan dan masukan yang diajukan.\n\nKeywords: \n- Python Indonesia\n- Data Science Indonesia\n- Machine Learning Indonesia\n- Python Pandas Indonesia\n- Pandas Data Frame\n- Belajar Data Science\n- Tutorial Data Science\n- Belajar Machine Learning\n- Tutorial Machine Learning",
           "title": "Tutorial Belajar Python Pandas | Tips & Tricks | Belajar Data Science | Bahasa Indonesia"
          },
          "publishedAt": "2020-05-22T15:05:40Z",
          "thumbnails": {
           "default": {
            "height": 90,
            "url": "https://i.ytimg.com/vi/RTxNv6ngTSc/default.jpg",
            "width": 120
           },
           "high": {
            "height": 360,
            "url": "https://i.ytimg.com/vi/RTxNv6ngTSc/hqdefault.jpg",
            "width": 480
           },
           "maxres": {
            "height": 720,
            "url": "https://i.ytimg.com/vi/RTxNv6ngTSc/maxresdefault.jpg",
            "width": 1280
           },
           "medium": {
            "height": 180,
            "url": "https://i.ytimg.com/vi/RTxNv6ngTSc/mqdefault.jpg",
            "width": 320
           },
           "standard": {
            "height": 480,
            "url": "https://i.ytimg.com/vi/RTxNv6ngTSc/sddefault.jpg",
            "width": 640
           }
          },
          "title": "Tutorial Belajar Python Pandas | Tips & Tricks | Belajar Data Science | Bahasa Indonesia"
         }
        },
        {
         "contentDetails": {
          "itemCount": 5
         },
         "etag": "pQqtXK8Y88ezk3qzeBXWQO0T0rM",
         "id": "PL2O3HdJI4voHYSco3d2p4AWOkwOCUtdo-",
         "kind": "youtube#playlist",
         "snippet": {
          "channelId": "UCQ4Jo2IJeyRGzZBvjaaLzrw",
          "channelTitle": "Indonesia Belajar",
          "description": "",
          "localized": {
           "description": "",
           "title": "Rekaman Kuliah Jaringan Komputer | Kuliah Online | Kuliah Daring | Pembelajaran Jarak Jauh | PJJ"
          },
          "publishedAt": "2020-05-10T11:02:05Z",
          "thumbnails": {
           "default": {
            "height": 90,
            "url": "https://i.ytimg.com/vi/O6MmcocZk6U/default.jpg",
            "width": 120
           },
           "high": {
            "height": 360,
            "url": "https://i.ytimg.com/vi/O6MmcocZk6U/hqdefault.jpg",
            "width": 480
           },
           "maxres": {
            "height": 720,
            "url": "https://i.ytimg.com/vi/O6MmcocZk6U/maxresdefault.jpg",
            "width": 1280
           },
           "medium": {
            "height": 180,
            "url": "https://i.ytimg.com/vi/O6MmcocZk6U/mqdefault.jpg",
            "width": 320
           },
           "standard": {
            "height": 480,
            "url": "https://i.ytimg.com/vi/O6MmcocZk6U/sddefault.jpg",
            "width": 640
           }
          },
          "title": "Rekaman Kuliah Jaringan Komputer | Kuliah Online | Kuliah Daring | Pembelajaran Jarak Jauh | PJJ"
         }
        },
        {
         "contentDetails": {
          "itemCount": 3
         },
         "etag": "4CD3ZPmYwXvuDCE9OL0nUDaFJb4",
         "id": "PL2O3HdJI4voGSFtP0vOzta9NT5hGGxbqt",
         "kind": "youtube#playlist",
         "snippet": {
          "channelId": "UCQ4Jo2IJeyRGzZBvjaaLzrw",
          "channelTitle": "Indonesia Belajar",
          "description": "",
          "localized": {
           "description": "",
           "title": "Instalasi & Review BSD"
          },
          "publishedAt": "2020-04-24T07:35:56Z",
          "thumbnails": {
           "default": {
            "height": 90,
            "url": "https://i.ytimg.com/vi/AXwnggJfRoI/default.jpg",
            "width": 120
           },
           "high": {
            "height": 360,
            "url": "https://i.ytimg.com/vi/AXwnggJfRoI/hqdefault.jpg",
            "width": 480
           },
           "maxres": {
            "height": 720,
            "url": "https://i.ytimg.com/vi/AXwnggJfRoI/maxresdefault.jpg",
            "width": 1280
           },
           "medium": {
            "height": 180,
            "url": "https://i.ytimg.com/vi/AXwnggJfRoI/mqdefault.jpg",
            "width": 320
           },
           "standard": {
            "height": 480,
            "url": "https://i.ytimg.com/vi/AXwnggJfRoI/sddefault.jpg",
            "width": 640
           }
          },
          "title": "Instalasi & Review BSD"
         }
        },
        {
         "contentDetails": {
          "itemCount": 14
         },
         "etag": "yL92XKH7Y4h9v6gYMDbevo8TwMM",
         "id": "PL2O3HdJI4voE4ne7DOHwAzQB9iCkPOVE4",
         "kind": "youtube#playlist",
         "snippet": {
          "channelId": "UCQ4Jo2IJeyRGzZBvjaaLzrw",
          "channelTitle": "Indonesia Belajar",
          "description": "",
          "localized": {
           "description": "",
           "title": "Distro Linux untuk Komputer Kentang (Spesifikasi Minim)"
          },
          "publishedAt": "2020-04-18T09:53:06Z",
          "thumbnails": {
           "default": {
            "height": 90,
            "url": "https://i.ytimg.com/vi/kwlEC-jfdPw/default.jpg",
            "width": 120
           },
           "high": {
            "height": 360,
            "url": "https://i.ytimg.com/vi/kwlEC-jfdPw/hqdefault.jpg",
            "width": 480
           },
           "maxres": {
            "height": 720,
            "url": "https://i.ytimg.com/vi/kwlEC-jfdPw/maxresdefault.jpg",
            "width": 1280
           },
           "medium": {
            "height": 180,
            "url": "https://i.ytimg.com/vi/kwlEC-jfdPw/mqdefault.jpg",
            "width": 320
           },
           "standard": {
            "height": 480,
            "url": "https://i.ytimg.com/vi/kwlEC-jfdPw/sddefault.jpg",
            "width": 640
           }
          },
          "title": "Distro Linux untuk Komputer Kentang (Spesifikasi Minim)"
         }
        },
        {
         "contentDetails": {
          "itemCount": 16
         },
         "etag": "LA8AmqTaEIhUbzUZeNttyBsKohI",
         "id": "PL2O3HdJI4voEOEB5ecXtCTayzXSB8b3KZ",
         "kind": "youtube#playlist",
         "snippet": {
          "channelId": "UCQ4Jo2IJeyRGzZBvjaaLzrw",
          "channelTitle": "Indonesia Belajar",
          "description": "",
          "localized": {
           "description": "",
           "title": "Rekaman Kuliah Algoritma dan Struktur Data | Kuliah Online | Kuliah Daring | Pembelajaran Jarak Jauh | PJJ"
          },
          "publishedAt": "2020-04-18T07:44:53Z",
          "thumbnails": {
           "default": {
            "height": 90,
            "url": "https://i.ytimg.com/vi/Sa-cnoUkNbU/default.jpg",
            "width": 120
           },
           "high": {
            "height": 360,
            "url": "https://i.ytimg.com/vi/Sa-cnoUkNbU/hqdefault.jpg",
            "width": 480
           },
           "maxres": {
            "height": 720,
            "url": "https://i.ytimg.com/vi/Sa-cnoUkNbU/maxresdefault.jpg",
            "width": 1280
           },
           "medium": {
            "height": 180,
            "url": "https://i.ytimg.com/vi/Sa-cnoUkNbU/mqdefault.jpg",
            "width": 320
           },
           "standard": {
            "height": 480,
            "url": "https://i.ytimg.com/vi/Sa-cnoUkNbU/sddefault.jpg",
            "width": 640
           }
          },
          "title": "Rekaman Kuliah Algoritma dan Struktur Data | Kuliah Online | Kuliah Daring | Pembelajaran Jarak Jauh | PJJ"
         }
        },
        {
         "contentDetails": {
          "itemCount": 10
         },
         "etag": "wZamFtY7sAOnVyZvQd9yk-ai6zg",
         "id": "PL2O3HdJI4voHcIO22VkkBvbxBTYh2AHSP",
         "kind": "youtube#playlist",
         "snippet": {
          "channelId": "UCQ4Jo2IJeyRGzZBvjaaLzrw",
          "channelTitle": "Indonesia Belajar",
          "description": "",
          "localized": {
           "description": "",
           "title": "Rekaman Kuliah Statistika Inferensi | Kuliah Online | Kuliah Daring | Pembelajaran Jarak Jauh | PJJ"
          },
          "publishedAt": "2020-04-18T07:40:44Z",
          "thumbnails": {
           "default": {
            "height": 90,
            "url": "https://i.ytimg.com/vi/yfChUTr9uKk/default.jpg",
            "width": 120
           },
           "high": {
            "height": 360,
            "url": "https://i.ytimg.com/vi/yfChUTr9uKk/hqdefault.jpg",
            "width": 480
           },
           "maxres": {
            "height": 720,
            "url": "https://i.ytimg.com/vi/yfChUTr9uKk/maxresdefault.jpg",
            "width": 1280
           },
           "medium": {
            "height": 180,
            "url": "https://i.ytimg.com/vi/yfChUTr9uKk/mqdefault.jpg",
            "width": 320
           },
           "standard": {
            "height": 480,
            "url": "https://i.ytimg.com/vi/yfChUTr9uKk/sddefault.jpg",
            "width": 640
           }
          },
          "title": "Rekaman Kuliah Statistika Inferensi | Kuliah Online | Kuliah Daring | Pembelajaran Jarak Jauh | PJJ"
         }
        },
        {
         "contentDetails": {
          "itemCount": 31
         },
         "etag": "VYnWvH_dNt3J-vYrJd_UaBpU7G4",
         "id": "PL2O3HdJI4voEpttLwVPBdzDJetWNuIrma",
         "kind": "youtube#playlist",
         "snippet": {
          "channelId": "UCQ4Jo2IJeyRGzZBvjaaLzrw",
          "channelTitle": "Indonesia Belajar",
          "description": "",
          "localized": {
           "description": "",
           "title": "Rekaman Kuliah | Kuliah Online | Kuliah Daring | Pembelajaran Jarak Jauh | PJJ"
          },
          "publishedAt": "2020-03-17T05:00:46Z",
          "thumbnails": {
           "default": {
            "height": 90,
            "url": "https://i.ytimg.com/vi/Sa-cnoUkNbU/default.jpg",
            "width": 120
           },
           "high": {
            "height": 360,
            "url": "https://i.ytimg.com/vi/Sa-cnoUkNbU/hqdefault.jpg",
            "width": 480
           },
           "maxres": {
            "height": 720,
            "url": "https://i.ytimg.com/vi/Sa-cnoUkNbU/maxresdefault.jpg",
            "width": 1280
           },
           "medium": {
            "height": 180,
            "url": "https://i.ytimg.com/vi/Sa-cnoUkNbU/mqdefault.jpg",
            "width": 320
           },
           "standard": {
            "height": 480,
            "url": "https://i.ytimg.com/vi/Sa-cnoUkNbU/sddefault.jpg",
            "width": 640
           }
          },
          "title": "Rekaman Kuliah | Kuliah Online | Kuliah Daring | Pembelajaran Jarak Jauh | PJJ"
         }
        },
        {
         "contentDetails": {
          "itemCount": 37
         },
         "etag": "uGpBJp6znym7l1K7Ucn-dC1KOXU",
         "id": "PL2O3HdJI4voEclcVMPqHoS6GSgcVNGIjy",
         "kind": "youtube#playlist",
         "snippet": {
          "channelId": "UCQ4Jo2IJeyRGzZBvjaaLzrw",
          "channelTitle": "Indonesia Belajar",
          "description": "Playlist ini berisi panduan instalasi beserta ulasan atau review untuk berbagai distro Linux.\n\nBeberapa distro Linux yang diulas adalah:\n- Ubuntu Linux\n- Linux Mint\n- Elementary OS\n- Zorin OS\n- MX Linux\n- Manjaro Linux\n- openSUSE\n- Fedora\n- AlmaLinux\n- Rocky Linux\n- Solus\n- Kali Linux\n- Bodhi Linux\n- Pop! OS\n- KDE Neon\n- Peppermint OS\n- Linux Lite OS\n- Xubuntu\n- Lubuntu\n- Ubuntu MATE\n- Ubuntu Budgie",
          "localized": {
           "description": "Playlist ini berisi panduan instalasi beserta ulasan atau review untuk berbagai distro Linux.\n\nBeberapa distro Linux yang diulas adalah:\n- Ubuntu Linux\n- Linux Mint\n- Elementary OS\n- Zorin OS\n- MX Linux\n- Manjaro Linux\n- openSUSE\n- Fedora\n- AlmaLinux\n- Rocky Linux\n- Solus\n- Kali Linux\n- Bodhi Linux\n- Pop! OS\n- KDE Neon\n- Peppermint OS\n- Linux Lite OS\n- Xubuntu\n- Lubuntu\n- Ubuntu MATE\n- Ubuntu Budgie",
           "title": "Instalasi & Review Linux"
          },
          "publishedAt": "2020-01-24T07:37:24Z",
          "thumbnails": {
           "default": {
            "height": 90,
            "url": "https://i.ytimg.com/vi/J1hK5ShG-Oo/default.jpg",
            "width": 120
           },
           "high": {
            "height": 360,
            "url": "https://i.ytimg.com/vi/J1hK5ShG-Oo/hqdefault.jpg",
            "width": 480
           },
           "maxres": {
            "height": 720,
            "url": "https://i.ytimg.com/vi/J1hK5ShG-Oo/maxresdefault.jpg",
            "width": 1280
           },
           "medium": {
            "height": 180,
            "url": "https://i.ytimg.com/vi/J1hK5ShG-Oo/mqdefault.jpg",
            "width": 320
           },
           "standard": {
            "height": 480,
            "url": "https://i.ytimg.com/vi/J1hK5ShG-Oo/sddefault.jpg",
            "width": 640
           }
          },
          "title": "Instalasi & Review Linux"
         }
        },
        {
         "contentDetails": {
          "itemCount": 5
         },
         "etag": "6AqMFKIXsaoi0HifgahUNR1-T6U",
         "id": "PL2O3HdJI4voFg4lxW_HB-8TesRyWAyt50",
         "kind": "youtube#playlist",
         "snippet": {
          "channelId": "UCQ4Jo2IJeyRGzZBvjaaLzrw",
          "channelTitle": "Indonesia Belajar",
          "description": "",
          "localized": {
           "description": "",
           "title": "OrbIT: Obrolan IT, Ajang Diskusi Seputar Topik IT"
          },
          "publishedAt": "2019-12-21T04:21:40Z",
          "thumbnails": {
           "default": {
            "height": 90,
            "url": "https://i.ytimg.com/vi/yOO8J9qPr6o/default.jpg",
            "width": 120
           },
           "high": {
            "height": 360,
            "url": "https://i.ytimg.com/vi/yOO8J9qPr6o/hqdefault.jpg",
            "width": 480
           },
           "maxres": {
            "height": 720,
            "url": "https://i.ytimg.com/vi/yOO8J9qPr6o/maxresdefault.jpg",
            "width": 1280
           },
           "medium": {
            "height": 180,
            "url": "https://i.ytimg.com/vi/yOO8J9qPr6o/mqdefault.jpg",
            "width": 320
           },
           "standard": {
            "height": 480,
            "url": "https://i.ytimg.com/vi/yOO8J9qPr6o/sddefault.jpg",
            "width": 640
           }
          },
          "title": "OrbIT: Obrolan IT, Ajang Diskusi Seputar Topik IT"
         }
        },
        {
         "contentDetails": {
          "itemCount": 53
         },
         "etag": "V0PsOmrvv5a7WIbUsNK81dGPNo8",
         "id": "PL2O3HdJI4voGGHElHBhJJF3J-JsjEuXPi",
         "kind": "youtube#playlist",
         "snippet": {
          "channelId": "UCQ4Jo2IJeyRGzZBvjaaLzrw",
          "channelTitle": "Indonesia Belajar",
          "description": "",
          "localized": {
           "description": "",
           "title": "Belajar Cybersecurity Bersama Pak Semi"
          },
          "publishedAt": "2019-12-19T03:30:46Z",
          "thumbnails": {
           "default": {
            "height": 90,
            "url": "https://i.ytimg.com/vi/URkCKbZNlnA/default.jpg",
            "width": 120
           },
           "high": {
            "height": 360,
            "url": "https://i.ytimg.com/vi/URkCKbZNlnA/hqdefault.jpg",
            "width": 480
           },
           "medium": {
            "height": 180,
            "url": "https://i.ytimg.com/vi/URkCKbZNlnA/mqdefault.jpg",
            "width": 320
           }
          },
          "title": "Belajar Cybersecurity Bersama Pak Semi"
         }
        },
        {
         "contentDetails": {
          "itemCount": 5
         },
         "etag": "Dp0oGUk4GxxVcT9MTP9sP8A2gPs",
         "id": "PL2O3HdJI4voEsHWeKb1pIn3KTDb2bbIeq",
         "kind": "youtube#playlist",
         "snippet": {
          "channelId": "UCQ4Jo2IJeyRGzZBvjaaLzrw",
          "channelTitle": "Indonesia Belajar",
          "description": "",
          "localized": {
           "description": "",
           "title": "Tutorial Belajar Data Science dengan Studi Kasus Kaggle"
          },
          "publishedAt": "2019-12-10T11:52:35Z",
          "thumbnails": {
           "default": {
            "height": 90,
            "url": "https://i.ytimg.com/vi/Op3019SFYzI/default.jpg",
            "width": 120
           },
           "high": {
            "height": 360,
            "url": "https://i.ytimg.com/vi/Op3019SFYzI/hqdefault.jpg",
            "width": 480
           },
           "maxres": {
            "height": 720,
            "url": "https://i.ytimg.com/vi/Op3019SFYzI/maxresdefault.jpg",
            "width": 1280
           },
           "medium": {
            "height": 180,
            "url": "https://i.ytimg.com/vi/Op3019SFYzI/mqdefault.jpg",
            "width": 320
           },
           "standard": {
            "height": 480,
            "url": "https://i.ytimg.com/vi/Op3019SFYzI/sddefault.jpg",
            "width": 640
           }
          },
          "title": "Tutorial Belajar Data Science dengan Studi Kasus Kaggle"
         }
        },
        {
         "contentDetails": {
          "itemCount": 9
         },
         "etag": "la5JlDBvQjx0f_vNozAXMi5gL9g",
         "id": "PL2O3HdJI4voGM2gNYekQcUhjGRXbahMEd",
         "kind": "youtube#playlist",
         "snippet": {
          "channelId": "UCQ4Jo2IJeyRGzZBvjaaLzrw",
          "channelTitle": "Indonesia Belajar",
          "description": "Selamat datang di seri pembelajaran statistika dasar. \nPlaylist ini berfokus pada pembahasan materi pembelajaran terkait topik topik statistika dasar. \n\nVideo pembelajaran berseri ini akan membantu teman-teman untuk belajar statistika dasar, khususnya statistika deskriptif.\n\nkeywords:\n- statistika\n- statistika dasar\n- statistika deskriptif\n- belajar statistika\n- tutorial statistika",
          "localized": {
           "description": "Selamat datang di seri pembelajaran statistika dasar. \nPlaylist ini berfokus pada pembahasan materi pembelajaran terkait topik topik statistika dasar. \n\nVideo pembelajaran berseri ini akan membantu teman-teman untuk belajar statistika dasar, khususnya statistika deskriptif.\n\nkeywords:\n- statistika\n- statistika dasar\n- statistika deskriptif\n- belajar statistika\n- tutorial statistika",
           "title": "Tutorial Belajar Statistika Dasar | Belajar Statistika Deskriptif"
          },
          "publishedAt": "2019-12-04T04:07:26Z",
          "thumbnails": {
           "default": {
            "height": 90,
            "url": "https://i.ytimg.com/vi/el7Ezn9PpWU/default.jpg",
            "width": 120
           },
           "high": {
            "height": 360,
            "url": "https://i.ytimg.com/vi/el7Ezn9PpWU/hqdefault.jpg",
            "width": 480
           },
           "maxres": {
            "height": 720,
            "url": "https://i.ytimg.com/vi/el7Ezn9PpWU/maxresdefault.jpg",
            "width": 1280
           },
           "medium": {
            "height": 180,
            "url": "https://i.ytimg.com/vi/el7Ezn9PpWU/mqdefault.jpg",
            "width": 320
           },
           "standard": {
            "height": 480,
            "url": "https://i.ytimg.com/vi/el7Ezn9PpWU/sddefault.jpg",
            "width": 640
           }
          },
          "title": "Tutorial Belajar Statistika Dasar | Belajar Statistika Deskriptif"
         }
        },
        {
         "contentDetails": {
          "itemCount": 41
         },
         "etag": "jqBXt9oplI-wM68yuP_JEZkq0EA",
         "id": "PL2O3HdJI4voEN5qr1DE2g1R97YnxU5BFO",
         "kind": "youtube#playlist",
         "snippet": {
          "channelId": "UCQ4Jo2IJeyRGzZBvjaaLzrw",
          "channelTitle": "Indonesia Belajar",
          "description": "",
          "localized": {
           "description": "",
           "title": "Latihan Soal Pemrograman Python dengan HackerRank"
          },
          "publishedAt": "2019-09-09T03:29:25Z",
          "thumbnails": {
           "default": {
            "height": 90,
            "url": "https://i.ytimg.com/vi/kwlRZUjzsns/default.jpg",
            "width": 120
           },
           "high": {
            "height": 360,
            "url": "https://i.ytimg.com/vi/kwlRZUjzsns/hqdefault.jpg",
            "width": 480
           },
           "maxres": {
            "height": 720,
            "url": "https://i.ytimg.com/vi/kwlRZUjzsns/maxresdefault.jpg",
            "width": 1280
           },
           "medium": {
            "height": 180,
            "url": "https://i.ytimg.com/vi/kwlRZUjzsns/mqdefault.jpg",
            "width": 320
           },
           "standard": {
            "height": 480,
            "url": "https://i.ytimg.com/vi/kwlRZUjzsns/sddefault.jpg",
            "width": 640
           }
          },
          "title": "Latihan Soal Pemrograman Python dengan HackerRank"
         }
        },
        {
         "contentDetails": {
          "itemCount": 9
         },
         "etag": "iMFoBgLpuff1DYxjBBq0UUIMZ7A",
         "id": "PL2O3HdJI4voGUCEuI7ufjJa9wdClcAFBh",
         "kind": "youtube#playlist",
         "snippet": {
          "channelId": "UCQ4Jo2IJeyRGzZBvjaaLzrw",
          "channelTitle": "Indonesia Belajar",
          "description": "Salah satu topik dalam pembelajaran jaringan komputer yang seringkali membingungkan bagi sebagian orang adalah topik terkait pengalamatan dalam jaringan komputer. Playlist ini berisi video-video pembelajaran yang difokuskan untuk membantu dalam mempelajari beberapa konsep dasar dan mekanisme perhitungan terkait pengalamatan dalam jaringan komputer.",
          "localized": {
           "description": "Salah satu topik dalam pembelajaran jaringan komputer yang seringkali membingungkan bagi sebagian orang adalah topik terkait pengalamatan dalam jaringan komputer. Playlist ini berisi video-video pembelajaran yang difokuskan untuk membantu dalam mempelajari beberapa konsep dasar dan mekanisme perhitungan terkait pengalamatan dalam jaringan komputer.",
           "title": "Tutorial Belajar Pengalamatan Jaringan Komputer Dasar (IP Address dan Subnetting)"
          },
          "publishedAt": "2019-08-15T02:34:43Z",
          "thumbnails": {
           "default": {
            "height": 90,
            "url": "https://i.ytimg.com/vi/hnrgjiEN0CQ/default.jpg",
            "width": 120
           },
           "high": {
            "height": 360,
            "url": "https://i.ytimg.com/vi/hnrgjiEN0CQ/hqdefault.jpg",
            "width": 480
           },
           "maxres": {
            "height": 720,
            "url": "https://i.ytimg.com/vi/hnrgjiEN0CQ/maxresdefault.jpg",
            "width": 1280
           },
           "medium": {
            "height": 180,
            "url": "https://i.ytimg.com/vi/hnrgjiEN0CQ/mqdefault.jpg",
            "width": 320
           },
           "standard": {
            "height": 480,
            "url": "https://i.ytimg.com/vi/hnrgjiEN0CQ/sddefault.jpg",
            "width": 640
           }
          },
          "title": "Tutorial Belajar Pengalamatan Jaringan Komputer Dasar (IP Address dan Subnetting)"
         }
        },
        {
         "contentDetails": {
          "itemCount": 5
         },
         "etag": "GBjZajO4IF6jrvnNOI3zR-zYQgE",
         "id": "PL2O3HdJI4voF_Sx37pSjkiAulKlGL3FIe",
         "kind": "youtube#playlist",
         "snippet": {
          "channelId": "UCQ4Jo2IJeyRGzZBvjaaLzrw",
          "channelTitle": "Indonesia Belajar",
          "description": "Salah satu kekuatan dari bahasa pemrograman Python terletak pada struktur data yang turut disertakan di dalamnya, atau sering kali dikenal dengan istilah built in data structure. \n\nPlaylist ini akan membahas lima struktur data dasar yang disertakan dalam bahasa pemrograman Python, yaitu: list, tuple, dictionary, set, dan named tuple.\n\nKemampuan untuk menggunakan kelima struktur data dasar ini sangatlah direkomendasikan bagi pemula atau bagi seseorang yang baru memulai belajar pemrograman Python.\n\nkeywords:\n- Python Indonesia\n- Python Dasar\n- Python Pemula\n- Struktur Data\n- Struktur Data Python\n- Pemrograman Python",
          "localized": {
           "description": "Salah satu kekuatan dari bahasa pemrograman Python terletak pada struktur data yang turut disertakan di dalamnya, atau sering kali dikenal dengan istilah built in data structure. \n\nPlaylist ini akan membahas lima struktur data dasar yang disertakan dalam bahasa pemrograman Python, yaitu: list, tuple, dictionary, set, dan named tuple.\n\nKemampuan untuk menggunakan kelima struktur data dasar ini sangatlah direkomendasikan bagi pemula atau bagi seseorang yang baru memulai belajar pemrograman Python.\n\nkeywords:\n- Python Indonesia\n- Python Dasar\n- Python Pemula\n- Struktur Data\n- Struktur Data Python\n- Pemrograman Python",
           "title": "Tutorial Belajar Stuktur Data Dasar pada Pemrograman Python"
          },
          "publishedAt": "2019-07-25T04:35:09Z",
          "thumbnails": {
           "default": {
            "height": 90,
            "url": "https://i.ytimg.com/vi/3Og1xO15HhQ/default.jpg",
            "width": 120
           },
           "high": {
            "height": 360,
            "url": "https://i.ytimg.com/vi/3Og1xO15HhQ/hqdefault.jpg",
            "width": 480
           },
           "maxres": {
            "height": 720,
            "url": "https://i.ytimg.com/vi/3Og1xO15HhQ/maxresdefault.jpg",
            "width": 1280
           },
           "medium": {
            "height": 180,
            "url": "https://i.ytimg.com/vi/3Og1xO15HhQ/mqdefault.jpg",
            "width": 320
           },
           "standard": {
            "height": 480,
            "url": "https://i.ytimg.com/vi/3Og1xO15HhQ/sddefault.jpg",
            "width": 640
           }
          },
          "title": "Tutorial Belajar Stuktur Data Dasar pada Pemrograman Python"
         }
        },
        {
         "contentDetails": {
          "itemCount": 40
         },
         "etag": "Y0QFxAPPonPBbwFiogRDxcZ1Dl8",
         "id": "PL2O3HdJI4voGzh8BtjRcm_7-O-AsT3TMm",
         "kind": "youtube#playlist",
         "snippet": {
          "channelId": "UCQ4Jo2IJeyRGzZBvjaaLzrw",
          "channelTitle": "Indonesia Belajar",
          "description": "Pythonic adalah idiom yang dikenal dalam pemrograman Python untuk mengekspresikan penulisan kode program yang lebih readable serta selaras dengan filosofi Python. Bagi teman-teman yang tertarik untuk mempelajari gaya pemrograman Pythonic, berikut ada video berseri yang secara khusus membahas tips dan tricks dalam pemrograman Python.",
          "localized": {
           "description": "Pythonic adalah idiom yang dikenal dalam pemrograman Python untuk mengekspresikan penulisan kode program yang lebih readable serta selaras dengan filosofi Python. Bagi teman-teman yang tertarik untuk mempelajari gaya pemrograman Pythonic, berikut ada video berseri yang secara khusus membahas tips dan tricks dalam pemrograman Python.",
           "title": "Pythonic: Belajar Tips dan Tricks Pemrograman Python"
          },
          "publishedAt": "2019-05-06T07:57:18Z",
          "thumbnails": {
           "default": {
            "height": 90,
            "url": "https://i.ytimg.com/vi/BHP3J8akr74/default.jpg",
            "width": 120
           },
           "high": {
            "height": 360,
            "url": "https://i.ytimg.com/vi/BHP3J8akr74/hqdefault.jpg",
            "width": 480
           },
           "maxres": {
            "height": 720,
            "url": "https://i.ytimg.com/vi/BHP3J8akr74/maxresdefault.jpg",
            "width": 1280
           },
           "medium": {
            "height": 180,
            "url": "https://i.ytimg.com/vi/BHP3J8akr74/mqdefault.jpg",
            "width": 320
           },
           "standard": {
            "height": 480,
            "url": "https://i.ytimg.com/vi/BHP3J8akr74/sddefault.jpg",
            "width": 640
           }
          },
          "title": "Pythonic: Belajar Tips dan Tricks Pemrograman Python"
         }
        },
        {
         "contentDetails": {
          "itemCount": 6
         },
         "etag": "W8d6xV-wZI3UE3O7X5iRLcFFfVY",
         "id": "PL2O3HdJI4voHJYfCTo9MJqTHsueBdPZYs",
         "kind": "youtube#playlist",
         "snippet": {
          "channelId": "UCQ4Jo2IJeyRGzZBvjaaLzrw",
          "channelTitle": "Indonesia Belajar",
          "description": "Cisco Packet Tracer adalah simulator yang ditawarkan oleh Cisco yang dapat membantu kita dalam mempelajari topik-topik terkait jaringan komputer. Playlist ini berisi video-video pembelajaran jaringan komputer dasar dengan memanfaatkan Cisco Packet Tracer sebagai alat bantu pembelajaran.\n\nkeywords:\n- Cisco Packet Tracer\n- Belajar Csico\n- Tutorial Cisco\n- Cisco Indonesia\n- Belajar Jaringan Komputer\n- Tutorial Jaringan Komputer",
          "localized": {
           "description": "Cisco Packet Tracer adalah simulator yang ditawarkan oleh Cisco yang dapat membantu kita dalam mempelajari topik-topik terkait jaringan komputer. Playlist ini berisi video-video pembelajaran jaringan komputer dasar dengan memanfaatkan Cisco Packet Tracer sebagai alat bantu pembelajaran.\n\nkeywords:\n- Cisco Packet Tracer\n- Belajar Csico\n- Tutorial Cisco\n- Cisco Indonesia\n- Belajar Jaringan Komputer\n- Tutorial Jaringan Komputer",
           "title": "Tutorial Belajar Jaringan Komputer Dasar dengan CISCO PacketTracer"
          },
          "publishedAt": "2019-04-18T07:31:59Z",
          "thumbnails": {
           "default": {
            "height": 90,
            "url": "https://i.ytimg.com/vi/CAWjdVqXd1I/default.jpg",
            "width": 120
           },
           "high": {
            "height": 360,
            "url": "https://i.ytimg.com/vi/CAWjdVqXd1I/hqdefault.jpg",
            "width": 480
           },
           "maxres": {
            "height": 720,
            "url": "https://i.ytimg.com/vi/CAWjdVqXd1I/maxresdefault.jpg",
            "width": 1280
           },
           "medium": {
            "height": 180,
            "url": "https://i.ytimg.com/vi/CAWjdVqXd1I/mqdefault.jpg",
            "width": 320
           },
           "standard": {
            "height": 480,
            "url": "https://i.ytimg.com/vi/CAWjdVqXd1I/sddefault.jpg",
            "width": 640
           }
          },
          "title": "Tutorial Belajar Jaringan Komputer Dasar dengan CISCO PacketTracer"
         }
        },
        {
         "contentDetails": {
          "itemCount": 9
         },
         "etag": "yoq47Ef4Uoanbnh9njeL0XamW6c",
         "id": "PL2O3HdJI4voHLld3txIVmV7IIuiBGyOWh",
         "kind": "youtube#playlist",
         "snippet": {
          "channelId": "UCQ4Jo2IJeyRGzZBvjaaLzrw",
          "channelTitle": "Indonesia Belajar",
          "description": "Tmux atau terminal multiplexer memungkinkan kita untuk bekerja dengan lebih efisien dan efektif dalam lingkungan console/terminal. Tmux cukup populer di kalangan system administrator dan juga software developer yang keyboard centric.\n\nPlaylist ini berisi video tutorial berseri yang memberikan tuntunan untuk mempelajari tmux dari dasar. Materi pembelajaran disampaikan dengan sistematis sehingga mudah untuk diikuti.",
          "localized": {
           "description": "Tmux atau terminal multiplexer memungkinkan kita untuk bekerja dengan lebih efisien dan efektif dalam lingkungan console/terminal. Tmux cukup populer di kalangan system administrator dan juga software developer yang keyboard centric.\n\nPlaylist ini berisi video tutorial berseri yang memberikan tuntunan untuk mempelajari tmux dari dasar. Materi pembelajaran disampaikan dengan sistematis sehingga mudah untuk diikuti.",
           "title": "Tutorial Belajar TMUX Dasar"
          },
          "publishedAt": "2019-04-01T04:32:42Z",
          "thumbnails": {
           "default": {
            "height": 90,
            "url": "https://i.ytimg.com/vi/m4b-zRFzZEg/default.jpg",
            "width": 120
           },
           "high": {
            "height": 360,
            "url": "https://i.ytimg.com/vi/m4b-zRFzZEg/hqdefault.jpg",
            "width": 480
           },
           "maxres": {
            "height": 720,
            "url": "https://i.ytimg.com/vi/m4b-zRFzZEg/maxresdefault.jpg",
            "width": 1280
           },
           "medium": {
            "height": 180,
            "url": "https://i.ytimg.com/vi/m4b-zRFzZEg/mqdefault.jpg",
            "width": 320
           },
           "standard": {
            "height": 480,
            "url": "https://i.ytimg.com/vi/m4b-zRFzZEg/sddefault.jpg",
            "width": 640
           }
          },
          "title": "Tutorial Belajar TMUX Dasar"
         }
        },
        {
         "contentDetails": {
          "itemCount": 9
         },
         "etag": "yiDZxP5KrdNRYkWAySFXd9t7IUI",
         "id": "PL2O3HdJI4voFAfxVMmNxj2-4Gxje1QVTR",
         "kind": "youtube#playlist",
         "snippet": {
          "channelId": "UCQ4Jo2IJeyRGzZBvjaaLzrw",
          "channelTitle": "Indonesia Belajar",
          "description": "Google Classroom adalah aplikasi penunjang pembelajaran atau biasa dikenal sebagai Learning Management System (LMS) yang disediakan oleh Google untuk meningkatkan efektifitas dan efisiensi dalam melangsungkan kegiatan belajar mengajar di kelas.\n\nPlaylist ini berisi video tutorial berseri yang memberikan tuntunan untuk menggunakan Google Classroom dari dasar. Materi pembelajaran disampaikan dengan sistematis sehingga mudah untuk diikuti.\n\n\ntutorial google classroom,\ngoogle classroom,\ngoogle classroom indonesia,\npembelajaran jarak jauh,\ncara menggunakan google classroom,\ncara membuat soal di google classroom,\ncara membuat quiz di google classroom,\npanduan google classroom,\ncara google classroom,\ntutorial google classroom untuk guru,\nbelajar google classroom,\npenggunaan google classroom,\ncara menggunakan google classroom,\ncara memakai google classroom,\ntutorial penggunaan google classroom,\ncara membuat tugas di google classroom,\npembelajaran google classroom,\ncara buat soal di google classroom,\ngoogle classroom tutorial,\ncara membuat kuis di google classroom,",
          "localized": {
           "description": "Google Classroom adalah aplikasi penunjang pembelajaran atau biasa dikenal sebagai Learning Management System (LMS) yang disediakan oleh Google untuk meningkatkan efektifitas dan efisiensi dalam melangsungkan kegiatan belajar mengajar di kelas.\n\nPlaylist ini berisi video tutorial berseri yang memberikan tuntunan untuk menggunakan Google Classroom dari dasar. Materi pembelajaran disampaikan dengan sistematis sehingga mudah untuk diikuti.\n\n\ntutorial google classroom,\ngoogle classroom,\ngoogle classroom indonesia,\npembelajaran jarak jauh,\ncara menggunakan google classroom,\ncara membuat soal di google classroom,\ncara membuat quiz di google classroom,\npanduan google classroom,\ncara google classroom,\ntutorial google classroom untuk guru,\nbelajar google classroom,\npenggunaan google classroom,\ncara menggunakan google classroom,\ncara memakai google classroom,\ntutorial penggunaan google classroom,\ncara membuat tugas di google classroom,\npembelajaran google classroom,\ncara buat soal di google classroom,\ngoogle classroom tutorial,\ncara membuat kuis di google classroom,",
           "title": "Tutorial Belajar Menggunakan Google Classroom"
          },
          "publishedAt": "2019-03-04T02:46:17Z",
          "thumbnails": {
           "default": {
            "height": 90,
            "url": "https://i.ytimg.com/vi/AMuTyLjOHsA/default.jpg",
            "width": 120
           },
           "high": {
            "height": 360,
            "url": "https://i.ytimg.com/vi/AMuTyLjOHsA/hqdefault.jpg",
            "width": 480
           },
           "maxres": {
            "height": 720,
            "url": "https://i.ytimg.com/vi/AMuTyLjOHsA/maxresdefault.jpg",
            "width": 1280
           },
           "medium": {
            "height": 180,
            "url": "https://i.ytimg.com/vi/AMuTyLjOHsA/mqdefault.jpg",
            "width": 320
           },
           "standard": {
            "height": 480,
            "url": "https://i.ytimg.com/vi/AMuTyLjOHsA/sddefault.jpg",
            "width": 640
           }
          },
          "title": "Tutorial Belajar Menggunakan Google Classroom"
         }
        },
        {
         "contentDetails": {
          "itemCount": 7
         },
         "etag": "pizUzBlLjSTtRRwWFQ8_5hac4r0",
         "id": "PL2O3HdJI4voGna4fPV3iXvj8HaHNq1LIL",
         "kind": "youtube#playlist",
         "snippet": {
          "channelId": "UCQ4Jo2IJeyRGzZBvjaaLzrw",
          "channelTitle": "Indonesia Belajar",
          "description": "",
          "localized": {
           "description": "",
           "title": "Pojok Review CLI Tools"
          },
          "publishedAt": "2019-02-19T04:48:19Z",
          "thumbnails": {
           "default": {
            "height": 90,
            "url": "https://i.ytimg.com/vi/juCDfm-XnKM/default.jpg",
            "width": 120
           },
           "high": {
            "height": 360,
            "url": "https://i.ytimg.com/vi/juCDfm-XnKM/hqdefault.jpg",
            "width": 480
           },
           "maxres": {
            "height": 720,
            "url": "https://i.ytimg.com/vi/juCDfm-XnKM/maxresdefault.jpg",
            "width": 1280
           },
           "medium": {
            "height": 180,
            "url": "https://i.ytimg.com/vi/juCDfm-XnKM/mqdefault.jpg",
            "width": 320
           },
           "standard": {
            "height": 480,
            "url": "https://i.ytimg.com/vi/juCDfm-XnKM/sddefault.jpg",
            "width": 640
           }
          },
          "title": "Pojok Review CLI Tools"
         }
        },
        {
         "contentDetails": {
          "itemCount": 9
         },
         "etag": "wg4AcpkT1nnblvmrBCVPA0oMAu0",
         "id": "PL2O3HdJI4voE_mHibdvrDqNj_vZaKCZGC",
         "kind": "youtube#playlist",
         "snippet": {
          "channelId": "UCQ4Jo2IJeyRGzZBvjaaLzrw",
          "channelTitle": "Indonesia Belajar",
          "description": "Vim adalah text editor berbasis terminal/console yang banyak digunakan oleh system administrator dan software developer yang keyboard centric.\n\nPlaylist ini berisi video tutorial berseri yang memberikan tuntunan untuk mempelajari Vim dari dasar. Materi pembelajaran disampaikan dengan sistematis sehingga mudah untuk diikuti.",
          "localized": {
           "description": "Vim adalah text editor berbasis terminal/console yang banyak digunakan oleh system administrator dan software developer yang keyboard centric.\n\nPlaylist ini berisi video tutorial berseri yang memberikan tuntunan untuk mempelajari Vim dari dasar. Materi pembelajaran disampaikan dengan sistematis sehingga mudah untuk diikuti.",
           "title": "Tutorial Belajar Vim Dasar"
          },
          "publishedAt": "2019-01-04T02:04:56Z",
          "thumbnails": {
           "default": {
            "height": 90,
            "url": "https://i.ytimg.com/vi/gcpzXEu8yGQ/default.jpg",
            "width": 120
           },
           "high": {
            "height": 360,
            "url": "https://i.ytimg.com/vi/gcpzXEu8yGQ/hqdefault.jpg",
            "width": 480
           },
           "maxres": {
            "height": 720,
            "url": "https://i.ytimg.com/vi/gcpzXEu8yGQ/maxresdefault.jpg",
            "width": 1280
           },
           "medium": {
            "height": 180,
            "url": "https://i.ytimg.com/vi/gcpzXEu8yGQ/mqdefault.jpg",
            "width": 320
           },
           "standard": {
            "height": 480,
            "url": "https://i.ytimg.com/vi/gcpzXEu8yGQ/sddefault.jpg",
            "width": 640
           }
          },
          "title": "Tutorial Belajar Vim Dasar"
         }
        }
       ],
       "kind": "youtube#playlistListResponse",
       "pageInfo": {
        "resultsPerPage": 50,
        "totalResults": 43
       }
      },
      "text/plain": [
       "<IPython.core.display.JSON object>"
      ]
     },
     "execution_count": 10,
     "metadata": {
      "application/json": {
       "expanded": false,
       "root": "root"
      }
     },
     "output_type": "execute_result"
    }
   ],
   "source": [
    "JSON(response)"
   ]
  },
  {
   "cell_type": "code",
   "execution_count": 14,
   "metadata": {},
   "outputs": [],
   "source": [
    "# save json file\n",
    "# with open('list semua playlist.json', 'w') as playlist_json:\n",
    "#     json.dump(response, playlist_json)"
   ]
  },
  {
   "cell_type": "markdown",
   "metadata": {},
   "source": [
    "### JSON Playlist Data Pre-Processing"
   ]
  },
  {
   "cell_type": "code",
   "execution_count": 15,
   "metadata": {},
   "outputs": [],
   "source": [
    "open_json_file = open('list semua playlist.json')\n",
    "playlist_items = json.load(open_json_file)"
   ]
  },
  {
   "cell_type": "code",
   "execution_count": 16,
   "metadata": {
    "scrolled": true,
    "tags": []
   },
   "outputs": [
    {
     "data": {
      "application/json": {
       "etag": "naKkad714nUKZheKG3ibtefWZlE",
       "items": [
        {
         "contentDetails": {
          "itemCount": 4
         },
         "etag": "qzZVeEcVj2grR4IEPR4U_MjHXrQ",
         "id": "PL2O3HdJI4voFWT9zTM2wUqHDLt2Ds_3bi",
         "kind": "youtube#playlist",
         "snippet": {
          "channelId": "UCQ4Jo2IJeyRGzZBvjaaLzrw",
          "channelTitle": "Indonesia Belajar",
          "description": "",
          "localized": {
           "description": "",
           "title": "Podcast Blockchain"
          },
          "publishedAt": "2022-04-13T06:55:03Z",
          "thumbnails": {
           "default": {
            "height": 90,
            "url": "https://i.ytimg.com/vi/avInXGOSajc/default.jpg",
            "width": 120
           },
           "high": {
            "height": 360,
            "url": "https://i.ytimg.com/vi/avInXGOSajc/hqdefault.jpg",
            "width": 480
           },
           "maxres": {
            "height": 720,
            "url": "https://i.ytimg.com/vi/avInXGOSajc/maxresdefault.jpg",
            "width": 1280
           },
           "medium": {
            "height": 180,
            "url": "https://i.ytimg.com/vi/avInXGOSajc/mqdefault.jpg",
            "width": 320
           },
           "standard": {
            "height": 480,
            "url": "https://i.ytimg.com/vi/avInXGOSajc/sddefault.jpg",
            "width": 640
           }
          },
          "title": "Podcast Blockchain"
         }
        },
        {
         "contentDetails": {
          "itemCount": 7
         },
         "etag": "h-0HkKJE37HeAts8xhmCN1ar0wM",
         "id": "PL2O3HdJI4voED2tsGDA2MRjKIhyjhHKNK",
         "kind": "youtube#playlist",
         "snippet": {
          "channelId": "UCQ4Jo2IJeyRGzZBvjaaLzrw",
          "channelTitle": "Indonesia Belajar",
          "description": "",
          "localized": {
           "description": "",
           "title": "Podcast Data"
          },
          "publishedAt": "2022-04-12T02:49:27Z",
          "thumbnails": {
           "default": {
            "height": 90,
            "url": "https://i.ytimg.com/vi/TZgy70AU-FQ/default.jpg",
            "width": 120
           },
           "high": {
            "height": 360,
            "url": "https://i.ytimg.com/vi/TZgy70AU-FQ/hqdefault.jpg",
            "width": 480
           },
           "maxres": {
            "height": 720,
            "url": "https://i.ytimg.com/vi/TZgy70AU-FQ/maxresdefault.jpg",
            "width": 1280
           },
           "medium": {
            "height": 180,
            "url": "https://i.ytimg.com/vi/TZgy70AU-FQ/mqdefault.jpg",
            "width": 320
           },
           "standard": {
            "height": 480,
            "url": "https://i.ytimg.com/vi/TZgy70AU-FQ/sddefault.jpg",
            "width": 640
           }
          },
          "title": "Podcast Data"
         }
        },
        {
         "contentDetails": {
          "itemCount": 4
         },
         "etag": "cp9dt3_MUwfuCTO8FUvW_3lTzWg",
         "id": "PL2O3HdJI4voHK5d2Vom-MKQ2IVcxcTLPQ",
         "kind": "youtube#playlist",
         "snippet": {
          "channelId": "UCQ4Jo2IJeyRGzZBvjaaLzrw",
          "channelTitle": "Indonesia Belajar",
          "description": "",
          "localized": {
           "description": "",
           "title": "Belajar Container bersama AWS"
          },
          "publishedAt": "2022-02-25T00:47:21Z",
          "thumbnails": {
           "default": {
            "height": 90,
            "url": "https://i.ytimg.com/vi/Mut7ao9qbR4/default.jpg",
            "width": 120
           },
           "high": {
            "height": 360,
            "url": "https://i.ytimg.com/vi/Mut7ao9qbR4/hqdefault.jpg",
            "width": 480
           },
           "maxres": {
            "height": 720,
            "url": "https://i.ytimg.com/vi/Mut7ao9qbR4/maxresdefault.jpg",
            "width": 1280
           },
           "medium": {
            "height": 180,
            "url": "https://i.ytimg.com/vi/Mut7ao9qbR4/mqdefault.jpg",
            "width": 320
           },
           "standard": {
            "height": 480,
            "url": "https://i.ytimg.com/vi/Mut7ao9qbR4/sddefault.jpg",
            "width": 640
           }
          },
          "title": "Belajar Container bersama AWS"
         }
        },
        {
         "contentDetails": {
          "itemCount": 0
         },
         "etag": "RRokCV_c8do6nwYbJrL3h6rjX2g",
         "id": "PL2O3HdJI4voEQS7Ka4RxHRAWJz_NIymkz",
         "kind": "youtube#playlist",
         "snippet": {
          "channelId": "UCQ4Jo2IJeyRGzZBvjaaLzrw",
          "channelTitle": "Indonesia Belajar",
          "description": "",
          "localized": {
           "description": "",
           "title": "Belajar Container bersama AWS"
          },
          "publishedAt": "2022-02-16T14:02:56Z",
          "thumbnails": {
           "default": {
            "height": 90,
            "url": "https://i.ytimg.com/img/no_thumbnail.jpg",
            "width": 120
           },
           "high": {
            "height": 360,
            "url": "https://i.ytimg.com/img/no_thumbnail.jpg",
            "width": 480
           },
           "medium": {
            "height": 180,
            "url": "https://i.ytimg.com/img/no_thumbnail.jpg",
            "width": 320
           }
          },
          "title": "Belajar Container bersama AWS"
         }
        },
        {
         "contentDetails": {
          "itemCount": 7
         },
         "etag": "zbxWwCndnPO2yW79f-wReE2-Q7o",
         "id": "PL2O3HdJI4voFyH616uejhvYt5AQzZ2iTi",
         "kind": "youtube#playlist",
         "snippet": {
          "channelId": "UCQ4Jo2IJeyRGzZBvjaaLzrw",
          "channelTitle": "Indonesia Belajar",
          "description": "",
          "localized": {
           "description": "",
           "title": "Belajar Time Series dengan Google Sheets"
          },
          "publishedAt": "2022-01-13T17:27:41Z",
          "thumbnails": {
           "default": {
            "height": 90,
            "url": "https://i.ytimg.com/vi/rUdfTH175So/default.jpg",
            "width": 120
           },
           "high": {
            "height": 360,
            "url": "https://i.ytimg.com/vi/rUdfTH175So/hqdefault.jpg",
            "width": 480
           },
           "medium": {
            "height": 180,
            "url": "https://i.ytimg.com/vi/rUdfTH175So/mqdefault.jpg",
            "width": 320
           }
          },
          "title": "Belajar Time Series dengan Google Sheets"
         }
        },
        {
         "contentDetails": {
          "itemCount": 5
         },
         "etag": "HyysaO5CTLb8_sRluSgbJO4kdlY",
         "id": "PL2O3HdJI4voH_ZLHPU3Lr6oHLMwSYwJAE",
         "kind": "youtube#playlist",
         "snippet": {
          "channelId": "UCQ4Jo2IJeyRGzZBvjaaLzrw",
          "channelTitle": "Indonesia Belajar",
          "description": "",
          "localized": {
           "description": "",
           "title": "Belajar Cloud Computing Dasar"
          },
          "publishedAt": "2021-09-15T02:08:10Z",
          "thumbnails": {
           "default": {
            "height": 90,
            "url": "https://i.ytimg.com/vi/fGCn9VTJ_ow/default.jpg",
            "width": 120
           },
           "high": {
            "height": 360,
            "url": "https://i.ytimg.com/vi/fGCn9VTJ_ow/hqdefault.jpg",
            "width": 480
           },
           "maxres": {
            "height": 720,
            "url": "https://i.ytimg.com/vi/fGCn9VTJ_ow/maxresdefault.jpg",
            "width": 1280
           },
           "medium": {
            "height": 180,
            "url": "https://i.ytimg.com/vi/fGCn9VTJ_ow/mqdefault.jpg",
            "width": 320
           },
           "standard": {
            "height": 480,
            "url": "https://i.ytimg.com/vi/fGCn9VTJ_ow/sddefault.jpg",
            "width": 640
           }
          },
          "title": "Belajar Cloud Computing Dasar"
         }
        },
        {
         "contentDetails": {
          "itemCount": 4
         },
         "etag": "2MdzaP8ElWGLsREeroKtj86hsik",
         "id": "PL2O3HdJI4voGrjBRv41ONT-eU391zXJUb",
         "kind": "youtube#playlist",
         "snippet": {
          "channelId": "UCQ4Jo2IJeyRGzZBvjaaLzrw",
          "channelTitle": "Indonesia Belajar",
          "description": "",
          "localized": {
           "description": "",
           "title": "Kustomisasi Desktop Environment"
          },
          "publishedAt": "2021-08-10T09:43:54Z",
          "thumbnails": {
           "default": {
            "height": 90,
            "url": "https://i.ytimg.com/vi/qjGJG1SyoyU/default.jpg",
            "width": 120
           },
           "high": {
            "height": 360,
            "url": "https://i.ytimg.com/vi/qjGJG1SyoyU/hqdefault.jpg",
            "width": 480
           },
           "maxres": {
            "height": 720,
            "url": "https://i.ytimg.com/vi/qjGJG1SyoyU/maxresdefault.jpg",
            "width": 1280
           },
           "medium": {
            "height": 180,
            "url": "https://i.ytimg.com/vi/qjGJG1SyoyU/mqdefault.jpg",
            "width": 320
           },
           "standard": {
            "height": 480,
            "url": "https://i.ytimg.com/vi/qjGJG1SyoyU/sddefault.jpg",
            "width": 640
           }
          },
          "title": "Kustomisasi Desktop Environment"
         }
        },
        {
         "contentDetails": {
          "itemCount": 15
         },
         "etag": "-DKmrUfzr4FLyhG_GDf_1sdFO5o",
         "id": "PL2O3HdJI4voFv4rLFFDKPY23yWV4ZIzrv",
         "kind": "youtube#playlist",
         "snippet": {
          "channelId": "UCQ4Jo2IJeyRGzZBvjaaLzrw",
          "channelTitle": "Indonesia Belajar",
          "description": "",
          "localized": {
           "description": "",
           "title": "Belajar Cloud Computing bersama AWS"
          },
          "publishedAt": "2021-06-25T03:49:41Z",
          "thumbnails": {
           "default": {
            "height": 90,
            "url": "https://i.ytimg.com/vi/ehL5xb6DUcQ/default.jpg",
            "width": 120
           },
           "high": {
            "height": 360,
            "url": "https://i.ytimg.com/vi/ehL5xb6DUcQ/hqdefault.jpg",
            "width": 480
           },
           "maxres": {
            "height": 720,
            "url": "https://i.ytimg.com/vi/ehL5xb6DUcQ/maxresdefault.jpg",
            "width": 1280
           },
           "medium": {
            "height": 180,
            "url": "https://i.ytimg.com/vi/ehL5xb6DUcQ/mqdefault.jpg",
            "width": 320
           },
           "standard": {
            "height": 480,
            "url": "https://i.ytimg.com/vi/ehL5xb6DUcQ/sddefault.jpg",
            "width": 640
           }
          },
          "title": "Belajar Cloud Computing bersama AWS"
         }
        },
        {
         "contentDetails": {
          "itemCount": 97
         },
         "etag": "f39iKh8UiITWsWl5OBI2n8egAA8",
         "id": "PL2O3HdJI4voGJg3hYGR5kfBxXv90DJ1lU",
         "kind": "youtube#playlist",
         "snippet": {
          "channelId": "UCQ4Jo2IJeyRGzZBvjaaLzrw",
          "channelTitle": "Indonesia Belajar",
          "description": "Berisi video pembelajaran yang berfokus pada pengembangan kompetensi di bidang data science dengan menggunakan bahasa pemrograman Python.\n\nMateri yang disajikan telah dipersiapkan secara khusus sehingga ramah bagi pemula.\n\nTopik bahasan:\n- Python Pandas Data Frame\n- Visualisasi data dengan Python Matplotlib\n- Machine Learning dengan Python Scikit-Learn\n\nkeywords:\n- Data Science Indonesia",
          "localized": {
           "description": "Berisi video pembelajaran yang berfokus pada pengembangan kompetensi di bidang data science dengan menggunakan bahasa pemrograman Python.\n\nMateri yang disajikan telah dipersiapkan secara khusus sehingga ramah bagi pemula.\n\nTopik bahasan:\n- Python Pandas Data Frame\n- Visualisasi data dengan Python Matplotlib\n- Machine Learning dengan Python Scikit-Learn\n\nkeywords:\n- Data Science Indonesia",
           "title": "Master Class Belajar Python Data Science | Lengkap & Sistematis"
          },
          "publishedAt": "2021-05-09T08:46:17Z",
          "thumbnails": {
           "default": {
            "height": 90,
            "url": "https://i.ytimg.com/vi/RTxNv6ngTSc/default.jpg",
            "width": 120
           },
           "high": {
            "height": 360,
            "url": "https://i.ytimg.com/vi/RTxNv6ngTSc/hqdefault.jpg",
            "width": 480
           },
           "maxres": {
            "height": 720,
            "url": "https://i.ytimg.com/vi/RTxNv6ngTSc/maxresdefault.jpg",
            "width": 1280
           },
           "medium": {
            "height": 180,
            "url": "https://i.ytimg.com/vi/RTxNv6ngTSc/mqdefault.jpg",
            "width": 320
           },
           "standard": {
            "height": 480,
            "url": "https://i.ytimg.com/vi/RTxNv6ngTSc/sddefault.jpg",
            "width": 640
           }
          },
          "title": "Master Class Belajar Python Data Science | Lengkap & Sistematis"
         }
        },
        {
         "contentDetails": {
          "itemCount": 15
         },
         "etag": "P-mlo1msKODLGQwjqUSs26403Mo",
         "id": "PL2O3HdJI4voFl-qHG0XLSrPAS6JRmRIDp",
         "kind": "youtube#playlist",
         "snippet": {
          "channelId": "UCQ4Jo2IJeyRGzZBvjaaLzrw",
          "channelTitle": "Indonesia Belajar",
          "description": "",
          "localized": {
           "description": "",
           "title": "Catatan Seorang Dosen"
          },
          "publishedAt": "2021-04-15T01:38:04Z",
          "thumbnails": {
           "default": {
            "height": 90,
            "url": "https://i.ytimg.com/vi/Vnsa4N1N7NU/default.jpg",
            "width": 120
           },
           "high": {
            "height": 360,
            "url": "https://i.ytimg.com/vi/Vnsa4N1N7NU/hqdefault.jpg",
            "width": 480
           },
           "maxres": {
            "height": 720,
            "url": "https://i.ytimg.com/vi/Vnsa4N1N7NU/maxresdefault.jpg",
            "width": 1280
           },
           "medium": {
            "height": 180,
            "url": "https://i.ytimg.com/vi/Vnsa4N1N7NU/mqdefault.jpg",
            "width": 320
           },
           "standard": {
            "height": 480,
            "url": "https://i.ytimg.com/vi/Vnsa4N1N7NU/sddefault.jpg",
            "width": 640
           }
          },
          "title": "Catatan Seorang Dosen"
         }
        },
        {
         "contentDetails": {
          "itemCount": 17
         },
         "etag": "xtAPOvtIxn8yAEn2xogerB5CxY8",
         "id": "PL2O3HdJI4voHNEv59SdXKRQVRZAFmwN9E",
         "kind": "youtube#playlist",
         "snippet": {
          "channelId": "UCQ4Jo2IJeyRGzZBvjaaLzrw",
          "channelTitle": "Indonesia Belajar",
          "description": "Materi dalam seri pembelajaran ini kami susun sedemikian rupa agar mudah diikuti, dan selalu kami awali dengan materi yang sifatnya mendasar terlebih dahulu. Kami berharap materi pembelajaran Machine Learning Dasar ini dapat bermanfaat dan membantu proses belajar kalian.\n\nScikit-Learn merupakan module dalam pemrograman Python yang memfasilitasi kita untuk mengerjakan berbagai machine learning project. Awalnya Scikit-Learn ini digarap sebagai bagian dari Google Summer of Code projec pada tahun 2007. Istilah Scikit sendiri merupakan kependekan dari SciPy Toolkits; karena memang project ini diperuntukkan sebagai extension untuk SciPy yang merupakan Scientific module dalam pemrograman python. Code base dari project ini lalu ditulis ulang dan mulai dibentuk tim khusus untuk mengembangkan project ini dengan lebih serius. Di awal tahun 2010, project Scikit-Learn ini dirilis ke publik dan berhasil menarik banyak contributor yang akhirnya menjadikan project ini terus berkembang sampai saat ini. Bahkan di tahun 2012, Scikit-Learn dikenal sebagai machine learning library yang paling populer dan well maintained.\n\nBilamana ada pertanyaan ataupun masukan terkait materi yang kami sampaikan, kalian dapat mengajukan pertanyaan dan masukan kalian, melalui kolom komentar video. Kami akan selalu berusaha untuk merespon setiap pertanyaan dan masukan yang kalian ajukan.\n\nBagi teman-teman yang ingin mentraktir kami, silakan untuk memanfaatkan link Saweria berikut ini: https://saweria.co/belajaridn​​\n\nBagi teman-teman yang tertarik, silakan untuk bergabung juga dengan Discord server Indonesia Belajar: https://discord.com/invite/ybWmMHCfrQ​\n\nLinks terkait:\n- Scikit-Learn: https://scikit-learn.org/stable/index...​\n- SciPy: https://www.scipy.org/​\n- Matplotlib: https://matplotlib.org/​\n- Pandas: https://pandas.pydata.org/​\n- Anaconda: https://www.anaconda.com/​\n- Machine Learning Yearning: https://www.deeplearning.ai/machine-l...​\n\nKeywords:\n- Belajar Machine Learning Dasar\n- Belajar Machine Learning Pemula\n- Tutorial Machine Learning Dasar\n- Tutorial Machine Learning Pemula\n- Belajar Machine Learning dengan Python\n- Tutorial Machine Learning dengan Python\n- Machine Learning Indonesia\n- Machine Learning Bahasa Indonesia\n- Belajar Scikit-Learn\n- Belajar Data Science",
          "localized": {
           "description": "Materi dalam seri pembelajaran ini kami susun sedemikian rupa agar mudah diikuti, dan selalu kami awali dengan materi yang sifatnya mendasar terlebih dahulu. Kami berharap materi pembelajaran Machine Learning Dasar ini dapat bermanfaat dan membantu proses belajar kalian.\n\nScikit-Learn merupakan module dalam pemrograman Python yang memfasilitasi kita untuk mengerjakan berbagai machine learning project. Awalnya Scikit-Learn ini digarap sebagai bagian dari Google Summer of Code projec pada tahun 2007. Istilah Scikit sendiri merupakan kependekan dari SciPy Toolkits; karena memang project ini diperuntukkan sebagai extension untuk SciPy yang merupakan Scientific module dalam pemrograman python. Code base dari project ini lalu ditulis ulang dan mulai dibentuk tim khusus untuk mengembangkan project ini dengan lebih serius. Di awal tahun 2010, project Scikit-Learn ini dirilis ke publik dan berhasil menarik banyak contributor yang akhirnya menjadikan project ini terus berkembang sampai saat ini. Bahkan di tahun 2012, Scikit-Learn dikenal sebagai machine learning library yang paling populer dan well maintained.\n\nBilamana ada pertanyaan ataupun masukan terkait materi yang kami sampaikan, kalian dapat mengajukan pertanyaan dan masukan kalian, melalui kolom komentar video. Kami akan selalu berusaha untuk merespon setiap pertanyaan dan masukan yang kalian ajukan.\n\nBagi teman-teman yang ingin mentraktir kami, silakan untuk memanfaatkan link Saweria berikut ini: https://saweria.co/belajaridn​​\n\nBagi teman-teman yang tertarik, silakan untuk bergabung juga dengan Discord server Indonesia Belajar: https://discord.com/invite/ybWmMHCfrQ​\n\nLinks terkait:\n- Scikit-Learn: https://scikit-learn.org/stable/index...​\n- SciPy: https://www.scipy.org/​\n- Matplotlib: https://matplotlib.org/​\n- Pandas: https://pandas.pydata.org/​\n- Anaconda: https://www.anaconda.com/​\n- Machine Learning Yearning: https://www.deeplearning.ai/machine-l...​\n\nKeywords:\n- Belajar Machine Learning Dasar\n- Belajar Machine Learning Pemula\n- Tutorial Machine Learning Dasar\n- Tutorial Machine Learning Pemula\n- Belajar Machine Learning dengan Python\n- Tutorial Machine Learning dengan Python\n- Machine Learning Indonesia\n- Machine Learning Bahasa Indonesia\n- Belajar Scikit-Learn\n- Belajar Data Science",
           "title": "Tutorial Belajar Machine Learning Dasar | Python Scikit-Learn"
          },
          "publishedAt": "2021-02-02T15:25:57Z",
          "thumbnails": {
           "default": {
            "height": 90,
            "url": "https://i.ytimg.com/vi/Rk1VmHk_kUo/default.jpg",
            "width": 120
           },
           "high": {
            "height": 360,
            "url": "https://i.ytimg.com/vi/Rk1VmHk_kUo/hqdefault.jpg",
            "width": 480
           },
           "maxres": {
            "height": 720,
            "url": "https://i.ytimg.com/vi/Rk1VmHk_kUo/maxresdefault.jpg",
            "width": 1280
           },
           "medium": {
            "height": 180,
            "url": "https://i.ytimg.com/vi/Rk1VmHk_kUo/mqdefault.jpg",
            "width": 320
           },
           "standard": {
            "height": 480,
            "url": "https://i.ytimg.com/vi/Rk1VmHk_kUo/sddefault.jpg",
            "width": 640
           }
          },
          "title": "Tutorial Belajar Machine Learning Dasar | Python Scikit-Learn"
         }
        },
        {
         "contentDetails": {
          "itemCount": 8
         },
         "etag": "piKiTYMO3PDR9XtZmG41DDcaQnA",
         "id": "PL2O3HdJI4voHAM5fkyNBH9IBrUXV1MU1Y",
         "kind": "youtube#playlist",
         "snippet": {
          "channelId": "UCQ4Jo2IJeyRGzZBvjaaLzrw",
          "channelTitle": "Indonesia Belajar",
          "description": "",
          "localized": {
           "description": "",
           "title": "Linux Gaming"
          },
          "publishedAt": "2020-12-27T05:40:19Z",
          "thumbnails": {
           "default": {
            "height": 90,
            "url": "https://i.ytimg.com/vi/9i5LxQnici8/default.jpg",
            "width": 120
           },
           "high": {
            "height": 360,
            "url": "https://i.ytimg.com/vi/9i5LxQnici8/hqdefault.jpg",
            "width": 480
           },
           "maxres": {
            "height": 720,
            "url": "https://i.ytimg.com/vi/9i5LxQnici8/maxresdefault.jpg",
            "width": 1280
           },
           "medium": {
            "height": 180,
            "url": "https://i.ytimg.com/vi/9i5LxQnici8/mqdefault.jpg",
            "width": 320
           },
           "standard": {
            "height": 480,
            "url": "https://i.ytimg.com/vi/9i5LxQnici8/sddefault.jpg",
            "width": 640
           }
          },
          "title": "Linux Gaming"
         }
        },
        {
         "contentDetails": {
          "itemCount": 13
         },
         "etag": "jUUpzxeV_ATIlyyHsivgFhDnAeY",
         "id": "PL2O3HdJI4voG0guZRmIT3OCzyQSmouW78",
         "kind": "youtube#playlist",
         "snippet": {
          "channelId": "UCQ4Jo2IJeyRGzZBvjaaLzrw",
          "channelTitle": "Indonesia Belajar",
          "description": "",
          "localized": {
           "description": "",
           "title": "Tutorial openSUSE"
          },
          "publishedAt": "2020-12-18T15:42:49Z",
          "thumbnails": {
           "default": {
            "height": 90,
            "url": "https://i.ytimg.com/vi/HkJsGcbT9xA/default.jpg",
            "width": 120
           },
           "high": {
            "height": 360,
            "url": "https://i.ytimg.com/vi/HkJsGcbT9xA/hqdefault.jpg",
            "width": 480
           },
           "maxres": {
            "height": 720,
            "url": "https://i.ytimg.com/vi/HkJsGcbT9xA/maxresdefault.jpg",
            "width": 1280
           },
           "medium": {
            "height": 180,
            "url": "https://i.ytimg.com/vi/HkJsGcbT9xA/mqdefault.jpg",
            "width": 320
           },
           "standard": {
            "height": 480,
            "url": "https://i.ytimg.com/vi/HkJsGcbT9xA/sddefault.jpg",
            "width": 640
           }
          },
          "title": "Tutorial openSUSE"
         }
        },
        {
         "contentDetails": {
          "itemCount": 2
         },
         "etag": "1fz_PCj4y6nB5HeFop6ueJ_tGDE",
         "id": "PL2O3HdJI4voGQ-TFLQtFCHvqmpCsJygGE",
         "kind": "youtube#playlist",
         "snippet": {
          "channelId": "UCQ4Jo2IJeyRGzZBvjaaLzrw",
          "channelTitle": "Indonesia Belajar",
          "description": "",
          "localized": {
           "description": "",
           "title": "AWS DevAx Connect | Live Online Workshop"
          },
          "publishedAt": "2020-11-25T13:06:10Z",
          "thumbnails": {
           "default": {
            "height": 90,
            "url": "https://i.ytimg.com/vi/N5x0Tdo59TU/default.jpg",
            "width": 120
           },
           "high": {
            "height": 360,
            "url": "https://i.ytimg.com/vi/N5x0Tdo59TU/hqdefault.jpg",
            "width": 480
           },
           "medium": {
            "height": 180,
            "url": "https://i.ytimg.com/vi/N5x0Tdo59TU/mqdefault.jpg",
            "width": 320
           },
           "standard": {
            "height": 480,
            "url": "https://i.ytimg.com/vi/N5x0Tdo59TU/sddefault.jpg",
            "width": 640
           }
          },
          "title": "AWS DevAx Connect | Live Online Workshop"
         }
        },
        {
         "contentDetails": {
          "itemCount": 8
         },
         "etag": "WlCzpK7N9iNY7KuORIoEJzeeCTI",
         "id": "PL2O3HdJI4voHDdTtwsGZ60uSPyYHB6KHb",
         "kind": "youtube#playlist",
         "snippet": {
          "channelId": "UCQ4Jo2IJeyRGzZBvjaaLzrw",
          "channelTitle": "Indonesia Belajar",
          "description": "",
          "localized": {
           "description": "",
           "title": "Tutorial Belajar Probabilitas Dasar"
          },
          "publishedAt": "2020-11-24T06:49:32Z",
          "thumbnails": {
           "default": {
            "height": 90,
            "url": "https://i.ytimg.com/vi/UP2KSz9uDCM/default.jpg",
            "width": 120
           },
           "high": {
            "height": 360,
            "url": "https://i.ytimg.com/vi/UP2KSz9uDCM/hqdefault.jpg",
            "width": 480
           },
           "maxres": {
            "height": 720,
            "url": "https://i.ytimg.com/vi/UP2KSz9uDCM/maxresdefault.jpg",
            "width": 1280
           },
           "medium": {
            "height": 180,
            "url": "https://i.ytimg.com/vi/UP2KSz9uDCM/mqdefault.jpg",
            "width": 320
           },
           "standard": {
            "height": 480,
            "url": "https://i.ytimg.com/vi/UP2KSz9uDCM/sddefault.jpg",
            "width": 640
           }
          },
          "title": "Tutorial Belajar Probabilitas Dasar"
         }
        },
        {
         "contentDetails": {
          "itemCount": 26
         },
         "etag": "4N9mggXDQ81moOw-6H2xlKh3sxI",
         "id": "PL2O3HdJI4voHrfoMFvkDeblmjarDN8nC8",
         "kind": "youtube#playlist",
         "snippet": {
          "channelId": "UCQ4Jo2IJeyRGzZBvjaaLzrw",
          "channelTitle": "Indonesia Belajar",
          "description": "",
          "localized": {
           "description": "",
           "title": "Tutorial Belajar Visualisasi Data Dasar | Python Matplotlib"
          },
          "publishedAt": "2020-09-22T01:27:15Z",
          "thumbnails": {
           "default": {
            "height": 90,
            "url": "https://i.ytimg.com/vi/zB3ptHg3piI/default.jpg",
            "width": 120
           },
           "high": {
            "height": 360,
            "url": "https://i.ytimg.com/vi/zB3ptHg3piI/hqdefault.jpg",
            "width": 480
           },
           "maxres": {
            "height": 720,
            "url": "https://i.ytimg.com/vi/zB3ptHg3piI/maxresdefault.jpg",
            "width": 1280
           },
           "medium": {
            "height": 180,
            "url": "https://i.ytimg.com/vi/zB3ptHg3piI/mqdefault.jpg",
            "width": 320
           },
           "standard": {
            "height": 480,
            "url": "https://i.ytimg.com/vi/zB3ptHg3piI/sddefault.jpg",
            "width": 640
           }
          },
          "title": "Tutorial Belajar Visualisasi Data Dasar | Python Matplotlib"
         }
        },
        {
         "contentDetails": {
          "itemCount": 11
         },
         "etag": "_N7cESaL-O2dz6vHe0qMdMr7yuk",
         "id": "PL2O3HdJI4voGs6CiEUPXwt1fhLLqu30E_",
         "kind": "youtube#playlist",
         "snippet": {
          "channelId": "UCQ4Jo2IJeyRGzZBvjaaLzrw",
          "channelTitle": "Indonesia Belajar",
          "description": "",
          "localized": {
           "description": "",
           "title": "Tutorial Belajar Database MySQL | MariaDB"
          },
          "publishedAt": "2020-09-03T04:00:39Z",
          "thumbnails": {
           "default": {
            "height": 90,
            "url": "https://i.ytimg.com/vi/D3W0ZSrXWDU/default.jpg",
            "width": 120
           },
           "high": {
            "height": 360,
            "url": "https://i.ytimg.com/vi/D3W0ZSrXWDU/hqdefault.jpg",
            "width": 480
           },
           "maxres": {
            "height": 720,
            "url": "https://i.ytimg.com/vi/D3W0ZSrXWDU/maxresdefault.jpg",
            "width": 1280
           },
           "medium": {
            "height": 180,
            "url": "https://i.ytimg.com/vi/D3W0ZSrXWDU/mqdefault.jpg",
            "width": 320
           },
           "standard": {
            "height": 480,
            "url": "https://i.ytimg.com/vi/D3W0ZSrXWDU/sddefault.jpg",
            "width": 640
           }
          },
          "title": "Tutorial Belajar Database MySQL | MariaDB"
         }
        },
        {
         "contentDetails": {
          "itemCount": 6
         },
         "etag": "hiYtM1N25Ue6jT1WdOmkbBmErnM",
         "id": "PL2O3HdJI4voFtnfZk60XK8ZvS5Elo16iw",
         "kind": "youtube#playlist",
         "snippet": {
          "channelId": "UCQ4Jo2IJeyRGzZBvjaaLzrw",
          "channelTitle": "Indonesia Belajar",
          "description": "",
          "localized": {
           "description": "",
           "title": "FOSS | Free Open Source Software"
          },
          "publishedAt": "2020-08-30T06:24:26Z",
          "thumbnails": {
           "default": {
            "height": 90,
            "url": "https://i.ytimg.com/vi/V_LH4XMuzrA/default.jpg",
            "width": 120
           },
           "high": {
            "height": 360,
            "url": "https://i.ytimg.com/vi/V_LH4XMuzrA/hqdefault.jpg",
            "width": 480
           },
           "medium": {
            "height": 180,
            "url": "https://i.ytimg.com/vi/V_LH4XMuzrA/mqdefault.jpg",
            "width": 320
           }
          },
          "title": "FOSS | Free Open Source Software"
         }
        },
        {
         "contentDetails": {
          "itemCount": 7
         },
         "etag": "4hQ-P44769t8g9ea6-ywRKJdLY0",
         "id": "PL2O3HdJI4voFJT9r5fpzyZ14zqDrTjEb8",
         "kind": "youtube#playlist",
         "snippet": {
          "channelId": "UCQ4Jo2IJeyRGzZBvjaaLzrw",
          "channelTitle": "Indonesia Belajar",
          "description": "",
          "localized": {
           "description": "",
           "title": "Q&A | Tanya Jawab | Indonesia Belajar"
          },
          "publishedAt": "2020-08-23T17:01:39Z",
          "thumbnails": {
           "default": {
            "height": 90,
            "url": "https://i.ytimg.com/vi/AZ5JN2T8ams/default.jpg",
            "width": 120
           },
           "high": {
            "height": 360,
            "url": "https://i.ytimg.com/vi/AZ5JN2T8ams/hqdefault.jpg",
            "width": 480
           },
           "maxres": {
            "height": 720,
            "url": "https://i.ytimg.com/vi/AZ5JN2T8ams/maxresdefault.jpg",
            "width": 1280
           },
           "medium": {
            "height": 180,
            "url": "https://i.ytimg.com/vi/AZ5JN2T8ams/mqdefault.jpg",
            "width": 320
           },
           "standard": {
            "height": 480,
            "url": "https://i.ytimg.com/vi/AZ5JN2T8ams/sddefault.jpg",
            "width": 640
           }
          },
          "title": "Q&A | Tanya Jawab | Indonesia Belajar"
         }
        },
        {
         "contentDetails": {
          "itemCount": 44
         },
         "etag": "8YMHHntHaUx0wGL7IbHuffMcT9E",
         "id": "PL2O3HdJI4voEBAvDIUadEvVY4JOwlKwWA",
         "kind": "youtube#playlist",
         "snippet": {
          "channelId": "UCQ4Jo2IJeyRGzZBvjaaLzrw",
          "channelTitle": "Indonesia Belajar",
          "description": "Playlist ini merupakan podcast berseri yang akan menghadirkan banyak narasumber yang merupakan pakar di bidangnya. Harapannya melalui sesi bincang-bincang ini dapat memberikan insight bari teman-teman sobat Indonesia Belajar terkait dunia IT.\n\nBeberapa topik yang pernah dibahasa dalam sesi podcast ini diantaranya adalah:\n\n- Cloud Computing dan AWS bersama Teddy Aryono (Solution Architect - Amazon Web Services)\n- Telecommunications and Data Infrastructures bersama Hasudungan P.C. Sijabat (Solution Manager - China Mobile Indonesia)\n- Business Intelligence bersama Tantiny Tanjung (Community Leader - Tableau User Group Jakarta)",
          "localized": {
           "description": "Playlist ini merupakan podcast berseri yang akan menghadirkan banyak narasumber yang merupakan pakar di bidangnya. Harapannya melalui sesi bincang-bincang ini dapat memberikan insight bari teman-teman sobat Indonesia Belajar terkait dunia IT.\n\nBeberapa topik yang pernah dibahasa dalam sesi podcast ini diantaranya adalah:\n\n- Cloud Computing dan AWS bersama Teddy Aryono (Solution Architect - Amazon Web Services)\n- Telecommunications and Data Infrastructures bersama Hasudungan P.C. Sijabat (Solution Manager - China Mobile Indonesia)\n- Business Intelligence bersama Tantiny Tanjung (Community Leader - Tableau User Group Jakarta)",
           "title": "Podcast | Bertemu Pakar | Ngobrol Seputar Dunia IT"
          },
          "publishedAt": "2020-07-31T00:19:20Z",
          "thumbnails": {
           "default": {
            "height": 90,
            "url": "https://i.ytimg.com/vi/r0acUL77Fnc/default.jpg",
            "width": 120
           },
           "high": {
            "height": 360,
            "url": "https://i.ytimg.com/vi/r0acUL77Fnc/hqdefault.jpg",
            "width": 480
           },
           "medium": {
            "height": 180,
            "url": "https://i.ytimg.com/vi/r0acUL77Fnc/mqdefault.jpg",
            "width": 320
           }
          },
          "title": "Podcast | Bertemu Pakar | Ngobrol Seputar Dunia IT"
         }
        },
        {
         "contentDetails": {
          "itemCount": 16
         },
         "etag": "QmDSPCtF5Q3JsCB_uB_IK3U-kao",
         "id": "PL2O3HdJI4voHjX09IpdsiSBNnLRaR-CbJ",
         "kind": "youtube#playlist",
         "snippet": {
          "channelId": "UCQ4Jo2IJeyRGzZBvjaaLzrw",
          "channelTitle": "Indonesia Belajar",
          "description": "",
          "localized": {
           "description": "",
           "title": "Python GUI dengan TKinter"
          },
          "publishedAt": "2020-07-07T13:01:29Z",
          "thumbnails": {
           "default": {
            "height": 90,
            "url": "https://i.ytimg.com/vi/fy_m-Cejnkc/default.jpg",
            "width": 120
           },
           "high": {
            "height": 360,
            "url": "https://i.ytimg.com/vi/fy_m-Cejnkc/hqdefault.jpg",
            "width": 480
           },
           "maxres": {
            "height": 720,
            "url": "https://i.ytimg.com/vi/fy_m-Cejnkc/maxresdefault.jpg",
            "width": 1280
           },
           "medium": {
            "height": 180,
            "url": "https://i.ytimg.com/vi/fy_m-Cejnkc/mqdefault.jpg",
            "width": 320
           },
           "standard": {
            "height": 480,
            "url": "https://i.ytimg.com/vi/fy_m-Cejnkc/sddefault.jpg",
            "width": 640
           }
          },
          "title": "Python GUI dengan TKinter"
         }
        },
        {
         "contentDetails": {
          "itemCount": 10
         },
         "etag": "0AKc2N7ceBu1Sdt6sKhd2BM7MhU",
         "id": "PL2O3HdJI4voHl6yAoFI7UR4ne2CkWyVFB",
         "kind": "youtube#playlist",
         "snippet": {
          "channelId": "UCQ4Jo2IJeyRGzZBvjaaLzrw",
          "channelTitle": "Indonesia Belajar",
          "description": "Selamat datang di seri pembelajaran AWS (Amazon Web Services) berbahasa Indonesia. AWS merupakan salah satu penyedia layanan cloud computing (komputasi awan). Ada banyak sekali layanan (services) yang ditawarkan oleh AWS.\n\nVideo pembelajaran berseri ini akan membantu teman-teman yang baru mengenal AWS untuk dapat mulai mencoba beberapa layanan dasar yang ditawarkan oleh AWS.\n\nBeberapa layanan yang dibahas dalam seri pembelajaran ini di antaranya adalah:\n- Amazon EC2 (Elastic Clomputer Clode)\n- Amazon S3 (Simple Storage Service)\n- Amazon RDS (Relational Database Service)\n- Amazon Aurora\n- AWS Cloud9 IDE\n\nkeywords:\n- Cloud Computing Indonesia\n- Amazon Web Services Indonesia\n- AWS Indonesia\n- AWS User Group Indonesia\n- AWS Educate Indonesia",
          "localized": {
           "description": "Selamat datang di seri pembelajaran AWS (Amazon Web Services) berbahasa Indonesia. AWS merupakan salah satu penyedia layanan cloud computing (komputasi awan). Ada banyak sekali layanan (services) yang ditawarkan oleh AWS.\n\nVideo pembelajaran berseri ini akan membantu teman-teman yang baru mengenal AWS untuk dapat mulai mencoba beberapa layanan dasar yang ditawarkan oleh AWS.\n\nBeberapa layanan yang dibahas dalam seri pembelajaran ini di antaranya adalah:\n- Amazon EC2 (Elastic Clomputer Clode)\n- Amazon S3 (Simple Storage Service)\n- Amazon RDS (Relational Database Service)\n- Amazon Aurora\n- AWS Cloud9 IDE\n\nkeywords:\n- Cloud Computing Indonesia\n- Amazon Web Services Indonesia\n- AWS Indonesia\n- AWS User Group Indonesia\n- AWS Educate Indonesia",
           "title": "Tutorial Belajar AWS | Amazon Web Services | Belajar Cloud Computing | Bahasa Indonesia"
          },
          "publishedAt": "2020-06-24T01:38:48Z",
          "thumbnails": {
           "default": {
            "height": 90,
            "url": "https://i.ytimg.com/vi/e2bPqN1ZxpQ/default.jpg",
            "width": 120
           },
           "high": {
            "height": 360,
            "url": "https://i.ytimg.com/vi/e2bPqN1ZxpQ/hqdefault.jpg",
            "width": 480
           },
           "maxres": {
            "height": 720,
            "url": "https://i.ytimg.com/vi/e2bPqN1ZxpQ/maxresdefault.jpg",
            "width": 1280
           },
           "medium": {
            "height": 180,
            "url": "https://i.ytimg.com/vi/e2bPqN1ZxpQ/mqdefault.jpg",
            "width": 320
           },
           "standard": {
            "height": 480,
            "url": "https://i.ytimg.com/vi/e2bPqN1ZxpQ/sddefault.jpg",
            "width": 640
           }
          },
          "title": "Tutorial Belajar AWS | Amazon Web Services | Belajar Cloud Computing | Bahasa Indonesia"
         }
        },
        {
         "contentDetails": {
          "itemCount": 58
         },
         "etag": "0r2UCCSSi9NRh6GBtIp1DpwEfFE",
         "id": "PL2O3HdJI4voGdD_9xhVCTBoDTDNHpajm5",
         "kind": "youtube#playlist",
         "snippet": {
          "channelId": "UCQ4Jo2IJeyRGzZBvjaaLzrw",
          "channelTitle": "Indonesia Belajar",
          "description": "Selamat datang dalam video berseri (playlist) bertema Belajar Python Pandas: Tips dan Tricks (Bahasa Indonesia). \n\nApa itu Python Pandas?\nPandas merupakan module dalam pemrograman Python yang memfasilitasi kita dalam bekerja di bidang data science dan machine learning.\nVideo pembelajaran dalam playlist ini membahas tips dan tricks yang dapat meningkatkan efektivitas dan efisiensi kita sewaktu bekerja dengan Python Pandas. \n\nSalah satu komponen penting dari Pandas adalah Pandas Data Frame, ini merupakan struktur data utama untuk melakukan pengolahan data dalam pemrograman Python. Kami pernah membuatkan sebuah video workshop yang secara spesifik memberikan pengenalan Pandas Data Frame. Video tersebut dapat diakses melalui link berikut ini: https://youtu.be/UvpBJZ_UKk0\n\nBilamana ada pertanyaan ataupun masukan terkait materi yang kami sampaikan, silakan untuk mengajukannya melalui kolom komentar video.\nKami akan selalu berusaha untuk merespon setiap pertanyaan dan masukan yang diajukan.\n\nKeywords: \n- Python Indonesia\n- Data Science Indonesia\n- Machine Learning Indonesia\n- Python Pandas Indonesia\n- Pandas Data Frame\n- Belajar Data Science\n- Tutorial Data Science\n- Belajar Machine Learning\n- Tutorial Machine Learning",
          "localized": {
           "description": "Selamat datang dalam video berseri (playlist) bertema Belajar Python Pandas: Tips dan Tricks (Bahasa Indonesia). \n\nApa itu Python Pandas?\nPandas merupakan module dalam pemrograman Python yang memfasilitasi kita dalam bekerja di bidang data science dan machine learning.\nVideo pembelajaran dalam playlist ini membahas tips dan tricks yang dapat meningkatkan efektivitas dan efisiensi kita sewaktu bekerja dengan Python Pandas. \n\nSalah satu komponen penting dari Pandas adalah Pandas Data Frame, ini merupakan struktur data utama untuk melakukan pengolahan data dalam pemrograman Python. Kami pernah membuatkan sebuah video workshop yang secara spesifik memberikan pengenalan Pandas Data Frame. Video tersebut dapat diakses melalui link berikut ini: https://youtu.be/UvpBJZ_UKk0\n\nBilamana ada pertanyaan ataupun masukan terkait materi yang kami sampaikan, silakan untuk mengajukannya melalui kolom komentar video.\nKami akan selalu berusaha untuk merespon setiap pertanyaan dan masukan yang diajukan.\n\nKeywords: \n- Python Indonesia\n- Data Science Indonesia\n- Machine Learning Indonesia\n- Python Pandas Indonesia\n- Pandas Data Frame\n- Belajar Data Science\n- Tutorial Data Science\n- Belajar Machine Learning\n- Tutorial Machine Learning",
           "title": "Tutorial Belajar Python Pandas | Tips & Tricks | Belajar Data Science | Bahasa Indonesia"
          },
          "publishedAt": "2020-05-22T15:05:40Z",
          "thumbnails": {
           "default": {
            "height": 90,
            "url": "https://i.ytimg.com/vi/RTxNv6ngTSc/default.jpg",
            "width": 120
           },
           "high": {
            "height": 360,
            "url": "https://i.ytimg.com/vi/RTxNv6ngTSc/hqdefault.jpg",
            "width": 480
           },
           "maxres": {
            "height": 720,
            "url": "https://i.ytimg.com/vi/RTxNv6ngTSc/maxresdefault.jpg",
            "width": 1280
           },
           "medium": {
            "height": 180,
            "url": "https://i.ytimg.com/vi/RTxNv6ngTSc/mqdefault.jpg",
            "width": 320
           },
           "standard": {
            "height": 480,
            "url": "https://i.ytimg.com/vi/RTxNv6ngTSc/sddefault.jpg",
            "width": 640
           }
          },
          "title": "Tutorial Belajar Python Pandas | Tips & Tricks | Belajar Data Science | Bahasa Indonesia"
         }
        },
        {
         "contentDetails": {
          "itemCount": 5
         },
         "etag": "pQqtXK8Y88ezk3qzeBXWQO0T0rM",
         "id": "PL2O3HdJI4voHYSco3d2p4AWOkwOCUtdo-",
         "kind": "youtube#playlist",
         "snippet": {
          "channelId": "UCQ4Jo2IJeyRGzZBvjaaLzrw",
          "channelTitle": "Indonesia Belajar",
          "description": "",
          "localized": {
           "description": "",
           "title": "Rekaman Kuliah Jaringan Komputer | Kuliah Online | Kuliah Daring | Pembelajaran Jarak Jauh | PJJ"
          },
          "publishedAt": "2020-05-10T11:02:05Z",
          "thumbnails": {
           "default": {
            "height": 90,
            "url": "https://i.ytimg.com/vi/O6MmcocZk6U/default.jpg",
            "width": 120
           },
           "high": {
            "height": 360,
            "url": "https://i.ytimg.com/vi/O6MmcocZk6U/hqdefault.jpg",
            "width": 480
           },
           "maxres": {
            "height": 720,
            "url": "https://i.ytimg.com/vi/O6MmcocZk6U/maxresdefault.jpg",
            "width": 1280
           },
           "medium": {
            "height": 180,
            "url": "https://i.ytimg.com/vi/O6MmcocZk6U/mqdefault.jpg",
            "width": 320
           },
           "standard": {
            "height": 480,
            "url": "https://i.ytimg.com/vi/O6MmcocZk6U/sddefault.jpg",
            "width": 640
           }
          },
          "title": "Rekaman Kuliah Jaringan Komputer | Kuliah Online | Kuliah Daring | Pembelajaran Jarak Jauh | PJJ"
         }
        },
        {
         "contentDetails": {
          "itemCount": 3
         },
         "etag": "4CD3ZPmYwXvuDCE9OL0nUDaFJb4",
         "id": "PL2O3HdJI4voGSFtP0vOzta9NT5hGGxbqt",
         "kind": "youtube#playlist",
         "snippet": {
          "channelId": "UCQ4Jo2IJeyRGzZBvjaaLzrw",
          "channelTitle": "Indonesia Belajar",
          "description": "",
          "localized": {
           "description": "",
           "title": "Instalasi & Review BSD"
          },
          "publishedAt": "2020-04-24T07:35:56Z",
          "thumbnails": {
           "default": {
            "height": 90,
            "url": "https://i.ytimg.com/vi/AXwnggJfRoI/default.jpg",
            "width": 120
           },
           "high": {
            "height": 360,
            "url": "https://i.ytimg.com/vi/AXwnggJfRoI/hqdefault.jpg",
            "width": 480
           },
           "maxres": {
            "height": 720,
            "url": "https://i.ytimg.com/vi/AXwnggJfRoI/maxresdefault.jpg",
            "width": 1280
           },
           "medium": {
            "height": 180,
            "url": "https://i.ytimg.com/vi/AXwnggJfRoI/mqdefault.jpg",
            "width": 320
           },
           "standard": {
            "height": 480,
            "url": "https://i.ytimg.com/vi/AXwnggJfRoI/sddefault.jpg",
            "width": 640
           }
          },
          "title": "Instalasi & Review BSD"
         }
        },
        {
         "contentDetails": {
          "itemCount": 14
         },
         "etag": "yL92XKH7Y4h9v6gYMDbevo8TwMM",
         "id": "PL2O3HdJI4voE4ne7DOHwAzQB9iCkPOVE4",
         "kind": "youtube#playlist",
         "snippet": {
          "channelId": "UCQ4Jo2IJeyRGzZBvjaaLzrw",
          "channelTitle": "Indonesia Belajar",
          "description": "",
          "localized": {
           "description": "",
           "title": "Distro Linux untuk Komputer Kentang (Spesifikasi Minim)"
          },
          "publishedAt": "2020-04-18T09:53:06Z",
          "thumbnails": {
           "default": {
            "height": 90,
            "url": "https://i.ytimg.com/vi/kwlEC-jfdPw/default.jpg",
            "width": 120
           },
           "high": {
            "height": 360,
            "url": "https://i.ytimg.com/vi/kwlEC-jfdPw/hqdefault.jpg",
            "width": 480
           },
           "maxres": {
            "height": 720,
            "url": "https://i.ytimg.com/vi/kwlEC-jfdPw/maxresdefault.jpg",
            "width": 1280
           },
           "medium": {
            "height": 180,
            "url": "https://i.ytimg.com/vi/kwlEC-jfdPw/mqdefault.jpg",
            "width": 320
           },
           "standard": {
            "height": 480,
            "url": "https://i.ytimg.com/vi/kwlEC-jfdPw/sddefault.jpg",
            "width": 640
           }
          },
          "title": "Distro Linux untuk Komputer Kentang (Spesifikasi Minim)"
         }
        },
        {
         "contentDetails": {
          "itemCount": 16
         },
         "etag": "LA8AmqTaEIhUbzUZeNttyBsKohI",
         "id": "PL2O3HdJI4voEOEB5ecXtCTayzXSB8b3KZ",
         "kind": "youtube#playlist",
         "snippet": {
          "channelId": "UCQ4Jo2IJeyRGzZBvjaaLzrw",
          "channelTitle": "Indonesia Belajar",
          "description": "",
          "localized": {
           "description": "",
           "title": "Rekaman Kuliah Algoritma dan Struktur Data | Kuliah Online | Kuliah Daring | Pembelajaran Jarak Jauh | PJJ"
          },
          "publishedAt": "2020-04-18T07:44:53Z",
          "thumbnails": {
           "default": {
            "height": 90,
            "url": "https://i.ytimg.com/vi/Sa-cnoUkNbU/default.jpg",
            "width": 120
           },
           "high": {
            "height": 360,
            "url": "https://i.ytimg.com/vi/Sa-cnoUkNbU/hqdefault.jpg",
            "width": 480
           },
           "maxres": {
            "height": 720,
            "url": "https://i.ytimg.com/vi/Sa-cnoUkNbU/maxresdefault.jpg",
            "width": 1280
           },
           "medium": {
            "height": 180,
            "url": "https://i.ytimg.com/vi/Sa-cnoUkNbU/mqdefault.jpg",
            "width": 320
           },
           "standard": {
            "height": 480,
            "url": "https://i.ytimg.com/vi/Sa-cnoUkNbU/sddefault.jpg",
            "width": 640
           }
          },
          "title": "Rekaman Kuliah Algoritma dan Struktur Data | Kuliah Online | Kuliah Daring | Pembelajaran Jarak Jauh | PJJ"
         }
        },
        {
         "contentDetails": {
          "itemCount": 10
         },
         "etag": "wZamFtY7sAOnVyZvQd9yk-ai6zg",
         "id": "PL2O3HdJI4voHcIO22VkkBvbxBTYh2AHSP",
         "kind": "youtube#playlist",
         "snippet": {
          "channelId": "UCQ4Jo2IJeyRGzZBvjaaLzrw",
          "channelTitle": "Indonesia Belajar",
          "description": "",
          "localized": {
           "description": "",
           "title": "Rekaman Kuliah Statistika Inferensi | Kuliah Online | Kuliah Daring | Pembelajaran Jarak Jauh | PJJ"
          },
          "publishedAt": "2020-04-18T07:40:44Z",
          "thumbnails": {
           "default": {
            "height": 90,
            "url": "https://i.ytimg.com/vi/yfChUTr9uKk/default.jpg",
            "width": 120
           },
           "high": {
            "height": 360,
            "url": "https://i.ytimg.com/vi/yfChUTr9uKk/hqdefault.jpg",
            "width": 480
           },
           "maxres": {
            "height": 720,
            "url": "https://i.ytimg.com/vi/yfChUTr9uKk/maxresdefault.jpg",
            "width": 1280
           },
           "medium": {
            "height": 180,
            "url": "https://i.ytimg.com/vi/yfChUTr9uKk/mqdefault.jpg",
            "width": 320
           },
           "standard": {
            "height": 480,
            "url": "https://i.ytimg.com/vi/yfChUTr9uKk/sddefault.jpg",
            "width": 640
           }
          },
          "title": "Rekaman Kuliah Statistika Inferensi | Kuliah Online | Kuliah Daring | Pembelajaran Jarak Jauh | PJJ"
         }
        },
        {
         "contentDetails": {
          "itemCount": 31
         },
         "etag": "VYnWvH_dNt3J-vYrJd_UaBpU7G4",
         "id": "PL2O3HdJI4voEpttLwVPBdzDJetWNuIrma",
         "kind": "youtube#playlist",
         "snippet": {
          "channelId": "UCQ4Jo2IJeyRGzZBvjaaLzrw",
          "channelTitle": "Indonesia Belajar",
          "description": "",
          "localized": {
           "description": "",
           "title": "Rekaman Kuliah | Kuliah Online | Kuliah Daring | Pembelajaran Jarak Jauh | PJJ"
          },
          "publishedAt": "2020-03-17T05:00:46Z",
          "thumbnails": {
           "default": {
            "height": 90,
            "url": "https://i.ytimg.com/vi/Sa-cnoUkNbU/default.jpg",
            "width": 120
           },
           "high": {
            "height": 360,
            "url": "https://i.ytimg.com/vi/Sa-cnoUkNbU/hqdefault.jpg",
            "width": 480
           },
           "maxres": {
            "height": 720,
            "url": "https://i.ytimg.com/vi/Sa-cnoUkNbU/maxresdefault.jpg",
            "width": 1280
           },
           "medium": {
            "height": 180,
            "url": "https://i.ytimg.com/vi/Sa-cnoUkNbU/mqdefault.jpg",
            "width": 320
           },
           "standard": {
            "height": 480,
            "url": "https://i.ytimg.com/vi/Sa-cnoUkNbU/sddefault.jpg",
            "width": 640
           }
          },
          "title": "Rekaman Kuliah | Kuliah Online | Kuliah Daring | Pembelajaran Jarak Jauh | PJJ"
         }
        },
        {
         "contentDetails": {
          "itemCount": 37
         },
         "etag": "uGpBJp6znym7l1K7Ucn-dC1KOXU",
         "id": "PL2O3HdJI4voEclcVMPqHoS6GSgcVNGIjy",
         "kind": "youtube#playlist",
         "snippet": {
          "channelId": "UCQ4Jo2IJeyRGzZBvjaaLzrw",
          "channelTitle": "Indonesia Belajar",
          "description": "Playlist ini berisi panduan instalasi beserta ulasan atau review untuk berbagai distro Linux.\n\nBeberapa distro Linux yang diulas adalah:\n- Ubuntu Linux\n- Linux Mint\n- Elementary OS\n- Zorin OS\n- MX Linux\n- Manjaro Linux\n- openSUSE\n- Fedora\n- AlmaLinux\n- Rocky Linux\n- Solus\n- Kali Linux\n- Bodhi Linux\n- Pop! OS\n- KDE Neon\n- Peppermint OS\n- Linux Lite OS\n- Xubuntu\n- Lubuntu\n- Ubuntu MATE\n- Ubuntu Budgie",
          "localized": {
           "description": "Playlist ini berisi panduan instalasi beserta ulasan atau review untuk berbagai distro Linux.\n\nBeberapa distro Linux yang diulas adalah:\n- Ubuntu Linux\n- Linux Mint\n- Elementary OS\n- Zorin OS\n- MX Linux\n- Manjaro Linux\n- openSUSE\n- Fedora\n- AlmaLinux\n- Rocky Linux\n- Solus\n- Kali Linux\n- Bodhi Linux\n- Pop! OS\n- KDE Neon\n- Peppermint OS\n- Linux Lite OS\n- Xubuntu\n- Lubuntu\n- Ubuntu MATE\n- Ubuntu Budgie",
           "title": "Instalasi & Review Linux"
          },
          "publishedAt": "2020-01-24T07:37:24Z",
          "thumbnails": {
           "default": {
            "height": 90,
            "url": "https://i.ytimg.com/vi/J1hK5ShG-Oo/default.jpg",
            "width": 120
           },
           "high": {
            "height": 360,
            "url": "https://i.ytimg.com/vi/J1hK5ShG-Oo/hqdefault.jpg",
            "width": 480
           },
           "maxres": {
            "height": 720,
            "url": "https://i.ytimg.com/vi/J1hK5ShG-Oo/maxresdefault.jpg",
            "width": 1280
           },
           "medium": {
            "height": 180,
            "url": "https://i.ytimg.com/vi/J1hK5ShG-Oo/mqdefault.jpg",
            "width": 320
           },
           "standard": {
            "height": 480,
            "url": "https://i.ytimg.com/vi/J1hK5ShG-Oo/sddefault.jpg",
            "width": 640
           }
          },
          "title": "Instalasi & Review Linux"
         }
        },
        {
         "contentDetails": {
          "itemCount": 5
         },
         "etag": "6AqMFKIXsaoi0HifgahUNR1-T6U",
         "id": "PL2O3HdJI4voFg4lxW_HB-8TesRyWAyt50",
         "kind": "youtube#playlist",
         "snippet": {
          "channelId": "UCQ4Jo2IJeyRGzZBvjaaLzrw",
          "channelTitle": "Indonesia Belajar",
          "description": "",
          "localized": {
           "description": "",
           "title": "OrbIT: Obrolan IT, Ajang Diskusi Seputar Topik IT"
          },
          "publishedAt": "2019-12-21T04:21:40Z",
          "thumbnails": {
           "default": {
            "height": 90,
            "url": "https://i.ytimg.com/vi/yOO8J9qPr6o/default.jpg",
            "width": 120
           },
           "high": {
            "height": 360,
            "url": "https://i.ytimg.com/vi/yOO8J9qPr6o/hqdefault.jpg",
            "width": 480
           },
           "maxres": {
            "height": 720,
            "url": "https://i.ytimg.com/vi/yOO8J9qPr6o/maxresdefault.jpg",
            "width": 1280
           },
           "medium": {
            "height": 180,
            "url": "https://i.ytimg.com/vi/yOO8J9qPr6o/mqdefault.jpg",
            "width": 320
           },
           "standard": {
            "height": 480,
            "url": "https://i.ytimg.com/vi/yOO8J9qPr6o/sddefault.jpg",
            "width": 640
           }
          },
          "title": "OrbIT: Obrolan IT, Ajang Diskusi Seputar Topik IT"
         }
        },
        {
         "contentDetails": {
          "itemCount": 53
         },
         "etag": "V0PsOmrvv5a7WIbUsNK81dGPNo8",
         "id": "PL2O3HdJI4voGGHElHBhJJF3J-JsjEuXPi",
         "kind": "youtube#playlist",
         "snippet": {
          "channelId": "UCQ4Jo2IJeyRGzZBvjaaLzrw",
          "channelTitle": "Indonesia Belajar",
          "description": "",
          "localized": {
           "description": "",
           "title": "Belajar Cybersecurity Bersama Pak Semi"
          },
          "publishedAt": "2019-12-19T03:30:46Z",
          "thumbnails": {
           "default": {
            "height": 90,
            "url": "https://i.ytimg.com/vi/URkCKbZNlnA/default.jpg",
            "width": 120
           },
           "high": {
            "height": 360,
            "url": "https://i.ytimg.com/vi/URkCKbZNlnA/hqdefault.jpg",
            "width": 480
           },
           "medium": {
            "height": 180,
            "url": "https://i.ytimg.com/vi/URkCKbZNlnA/mqdefault.jpg",
            "width": 320
           }
          },
          "title": "Belajar Cybersecurity Bersama Pak Semi"
         }
        },
        {
         "contentDetails": {
          "itemCount": 5
         },
         "etag": "Dp0oGUk4GxxVcT9MTP9sP8A2gPs",
         "id": "PL2O3HdJI4voEsHWeKb1pIn3KTDb2bbIeq",
         "kind": "youtube#playlist",
         "snippet": {
          "channelId": "UCQ4Jo2IJeyRGzZBvjaaLzrw",
          "channelTitle": "Indonesia Belajar",
          "description": "",
          "localized": {
           "description": "",
           "title": "Tutorial Belajar Data Science dengan Studi Kasus Kaggle"
          },
          "publishedAt": "2019-12-10T11:52:35Z",
          "thumbnails": {
           "default": {
            "height": 90,
            "url": "https://i.ytimg.com/vi/Op3019SFYzI/default.jpg",
            "width": 120
           },
           "high": {
            "height": 360,
            "url": "https://i.ytimg.com/vi/Op3019SFYzI/hqdefault.jpg",
            "width": 480
           },
           "maxres": {
            "height": 720,
            "url": "https://i.ytimg.com/vi/Op3019SFYzI/maxresdefault.jpg",
            "width": 1280
           },
           "medium": {
            "height": 180,
            "url": "https://i.ytimg.com/vi/Op3019SFYzI/mqdefault.jpg",
            "width": 320
           },
           "standard": {
            "height": 480,
            "url": "https://i.ytimg.com/vi/Op3019SFYzI/sddefault.jpg",
            "width": 640
           }
          },
          "title": "Tutorial Belajar Data Science dengan Studi Kasus Kaggle"
         }
        },
        {
         "contentDetails": {
          "itemCount": 9
         },
         "etag": "la5JlDBvQjx0f_vNozAXMi5gL9g",
         "id": "PL2O3HdJI4voGM2gNYekQcUhjGRXbahMEd",
         "kind": "youtube#playlist",
         "snippet": {
          "channelId": "UCQ4Jo2IJeyRGzZBvjaaLzrw",
          "channelTitle": "Indonesia Belajar",
          "description": "Selamat datang di seri pembelajaran statistika dasar. \nPlaylist ini berfokus pada pembahasan materi pembelajaran terkait topik topik statistika dasar. \n\nVideo pembelajaran berseri ini akan membantu teman-teman untuk belajar statistika dasar, khususnya statistika deskriptif.\n\nkeywords:\n- statistika\n- statistika dasar\n- statistika deskriptif\n- belajar statistika\n- tutorial statistika",
          "localized": {
           "description": "Selamat datang di seri pembelajaran statistika dasar. \nPlaylist ini berfokus pada pembahasan materi pembelajaran terkait topik topik statistika dasar. \n\nVideo pembelajaran berseri ini akan membantu teman-teman untuk belajar statistika dasar, khususnya statistika deskriptif.\n\nkeywords:\n- statistika\n- statistika dasar\n- statistika deskriptif\n- belajar statistika\n- tutorial statistika",
           "title": "Tutorial Belajar Statistika Dasar | Belajar Statistika Deskriptif"
          },
          "publishedAt": "2019-12-04T04:07:26Z",
          "thumbnails": {
           "default": {
            "height": 90,
            "url": "https://i.ytimg.com/vi/el7Ezn9PpWU/default.jpg",
            "width": 120
           },
           "high": {
            "height": 360,
            "url": "https://i.ytimg.com/vi/el7Ezn9PpWU/hqdefault.jpg",
            "width": 480
           },
           "maxres": {
            "height": 720,
            "url": "https://i.ytimg.com/vi/el7Ezn9PpWU/maxresdefault.jpg",
            "width": 1280
           },
           "medium": {
            "height": 180,
            "url": "https://i.ytimg.com/vi/el7Ezn9PpWU/mqdefault.jpg",
            "width": 320
           },
           "standard": {
            "height": 480,
            "url": "https://i.ytimg.com/vi/el7Ezn9PpWU/sddefault.jpg",
            "width": 640
           }
          },
          "title": "Tutorial Belajar Statistika Dasar | Belajar Statistika Deskriptif"
         }
        },
        {
         "contentDetails": {
          "itemCount": 41
         },
         "etag": "jqBXt9oplI-wM68yuP_JEZkq0EA",
         "id": "PL2O3HdJI4voEN5qr1DE2g1R97YnxU5BFO",
         "kind": "youtube#playlist",
         "snippet": {
          "channelId": "UCQ4Jo2IJeyRGzZBvjaaLzrw",
          "channelTitle": "Indonesia Belajar",
          "description": "",
          "localized": {
           "description": "",
           "title": "Latihan Soal Pemrograman Python dengan HackerRank"
          },
          "publishedAt": "2019-09-09T03:29:25Z",
          "thumbnails": {
           "default": {
            "height": 90,
            "url": "https://i.ytimg.com/vi/kwlRZUjzsns/default.jpg",
            "width": 120
           },
           "high": {
            "height": 360,
            "url": "https://i.ytimg.com/vi/kwlRZUjzsns/hqdefault.jpg",
            "width": 480
           },
           "maxres": {
            "height": 720,
            "url": "https://i.ytimg.com/vi/kwlRZUjzsns/maxresdefault.jpg",
            "width": 1280
           },
           "medium": {
            "height": 180,
            "url": "https://i.ytimg.com/vi/kwlRZUjzsns/mqdefault.jpg",
            "width": 320
           },
           "standard": {
            "height": 480,
            "url": "https://i.ytimg.com/vi/kwlRZUjzsns/sddefault.jpg",
            "width": 640
           }
          },
          "title": "Latihan Soal Pemrograman Python dengan HackerRank"
         }
        },
        {
         "contentDetails": {
          "itemCount": 9
         },
         "etag": "iMFoBgLpuff1DYxjBBq0UUIMZ7A",
         "id": "PL2O3HdJI4voGUCEuI7ufjJa9wdClcAFBh",
         "kind": "youtube#playlist",
         "snippet": {
          "channelId": "UCQ4Jo2IJeyRGzZBvjaaLzrw",
          "channelTitle": "Indonesia Belajar",
          "description": "Salah satu topik dalam pembelajaran jaringan komputer yang seringkali membingungkan bagi sebagian orang adalah topik terkait pengalamatan dalam jaringan komputer. Playlist ini berisi video-video pembelajaran yang difokuskan untuk membantu dalam mempelajari beberapa konsep dasar dan mekanisme perhitungan terkait pengalamatan dalam jaringan komputer.",
          "localized": {
           "description": "Salah satu topik dalam pembelajaran jaringan komputer yang seringkali membingungkan bagi sebagian orang adalah topik terkait pengalamatan dalam jaringan komputer. Playlist ini berisi video-video pembelajaran yang difokuskan untuk membantu dalam mempelajari beberapa konsep dasar dan mekanisme perhitungan terkait pengalamatan dalam jaringan komputer.",
           "title": "Tutorial Belajar Pengalamatan Jaringan Komputer Dasar (IP Address dan Subnetting)"
          },
          "publishedAt": "2019-08-15T02:34:43Z",
          "thumbnails": {
           "default": {
            "height": 90,
            "url": "https://i.ytimg.com/vi/hnrgjiEN0CQ/default.jpg",
            "width": 120
           },
           "high": {
            "height": 360,
            "url": "https://i.ytimg.com/vi/hnrgjiEN0CQ/hqdefault.jpg",
            "width": 480
           },
           "maxres": {
            "height": 720,
            "url": "https://i.ytimg.com/vi/hnrgjiEN0CQ/maxresdefault.jpg",
            "width": 1280
           },
           "medium": {
            "height": 180,
            "url": "https://i.ytimg.com/vi/hnrgjiEN0CQ/mqdefault.jpg",
            "width": 320
           },
           "standard": {
            "height": 480,
            "url": "https://i.ytimg.com/vi/hnrgjiEN0CQ/sddefault.jpg",
            "width": 640
           }
          },
          "title": "Tutorial Belajar Pengalamatan Jaringan Komputer Dasar (IP Address dan Subnetting)"
         }
        },
        {
         "contentDetails": {
          "itemCount": 5
         },
         "etag": "GBjZajO4IF6jrvnNOI3zR-zYQgE",
         "id": "PL2O3HdJI4voF_Sx37pSjkiAulKlGL3FIe",
         "kind": "youtube#playlist",
         "snippet": {
          "channelId": "UCQ4Jo2IJeyRGzZBvjaaLzrw",
          "channelTitle": "Indonesia Belajar",
          "description": "Salah satu kekuatan dari bahasa pemrograman Python terletak pada struktur data yang turut disertakan di dalamnya, atau sering kali dikenal dengan istilah built in data structure. \n\nPlaylist ini akan membahas lima struktur data dasar yang disertakan dalam bahasa pemrograman Python, yaitu: list, tuple, dictionary, set, dan named tuple.\n\nKemampuan untuk menggunakan kelima struktur data dasar ini sangatlah direkomendasikan bagi pemula atau bagi seseorang yang baru memulai belajar pemrograman Python.\n\nkeywords:\n- Python Indonesia\n- Python Dasar\n- Python Pemula\n- Struktur Data\n- Struktur Data Python\n- Pemrograman Python",
          "localized": {
           "description": "Salah satu kekuatan dari bahasa pemrograman Python terletak pada struktur data yang turut disertakan di dalamnya, atau sering kali dikenal dengan istilah built in data structure. \n\nPlaylist ini akan membahas lima struktur data dasar yang disertakan dalam bahasa pemrograman Python, yaitu: list, tuple, dictionary, set, dan named tuple.\n\nKemampuan untuk menggunakan kelima struktur data dasar ini sangatlah direkomendasikan bagi pemula atau bagi seseorang yang baru memulai belajar pemrograman Python.\n\nkeywords:\n- Python Indonesia\n- Python Dasar\n- Python Pemula\n- Struktur Data\n- Struktur Data Python\n- Pemrograman Python",
           "title": "Tutorial Belajar Stuktur Data Dasar pada Pemrograman Python"
          },
          "publishedAt": "2019-07-25T04:35:09Z",
          "thumbnails": {
           "default": {
            "height": 90,
            "url": "https://i.ytimg.com/vi/3Og1xO15HhQ/default.jpg",
            "width": 120
           },
           "high": {
            "height": 360,
            "url": "https://i.ytimg.com/vi/3Og1xO15HhQ/hqdefault.jpg",
            "width": 480
           },
           "maxres": {
            "height": 720,
            "url": "https://i.ytimg.com/vi/3Og1xO15HhQ/maxresdefault.jpg",
            "width": 1280
           },
           "medium": {
            "height": 180,
            "url": "https://i.ytimg.com/vi/3Og1xO15HhQ/mqdefault.jpg",
            "width": 320
           },
           "standard": {
            "height": 480,
            "url": "https://i.ytimg.com/vi/3Og1xO15HhQ/sddefault.jpg",
            "width": 640
           }
          },
          "title": "Tutorial Belajar Stuktur Data Dasar pada Pemrograman Python"
         }
        },
        {
         "contentDetails": {
          "itemCount": 40
         },
         "etag": "Y0QFxAPPonPBbwFiogRDxcZ1Dl8",
         "id": "PL2O3HdJI4voGzh8BtjRcm_7-O-AsT3TMm",
         "kind": "youtube#playlist",
         "snippet": {
          "channelId": "UCQ4Jo2IJeyRGzZBvjaaLzrw",
          "channelTitle": "Indonesia Belajar",
          "description": "Pythonic adalah idiom yang dikenal dalam pemrograman Python untuk mengekspresikan penulisan kode program yang lebih readable serta selaras dengan filosofi Python. Bagi teman-teman yang tertarik untuk mempelajari gaya pemrograman Pythonic, berikut ada video berseri yang secara khusus membahas tips dan tricks dalam pemrograman Python.",
          "localized": {
           "description": "Pythonic adalah idiom yang dikenal dalam pemrograman Python untuk mengekspresikan penulisan kode program yang lebih readable serta selaras dengan filosofi Python. Bagi teman-teman yang tertarik untuk mempelajari gaya pemrograman Pythonic, berikut ada video berseri yang secara khusus membahas tips dan tricks dalam pemrograman Python.",
           "title": "Pythonic: Belajar Tips dan Tricks Pemrograman Python"
          },
          "publishedAt": "2019-05-06T07:57:18Z",
          "thumbnails": {
           "default": {
            "height": 90,
            "url": "https://i.ytimg.com/vi/BHP3J8akr74/default.jpg",
            "width": 120
           },
           "high": {
            "height": 360,
            "url": "https://i.ytimg.com/vi/BHP3J8akr74/hqdefault.jpg",
            "width": 480
           },
           "maxres": {
            "height": 720,
            "url": "https://i.ytimg.com/vi/BHP3J8akr74/maxresdefault.jpg",
            "width": 1280
           },
           "medium": {
            "height": 180,
            "url": "https://i.ytimg.com/vi/BHP3J8akr74/mqdefault.jpg",
            "width": 320
           },
           "standard": {
            "height": 480,
            "url": "https://i.ytimg.com/vi/BHP3J8akr74/sddefault.jpg",
            "width": 640
           }
          },
          "title": "Pythonic: Belajar Tips dan Tricks Pemrograman Python"
         }
        },
        {
         "contentDetails": {
          "itemCount": 6
         },
         "etag": "W8d6xV-wZI3UE3O7X5iRLcFFfVY",
         "id": "PL2O3HdJI4voHJYfCTo9MJqTHsueBdPZYs",
         "kind": "youtube#playlist",
         "snippet": {
          "channelId": "UCQ4Jo2IJeyRGzZBvjaaLzrw",
          "channelTitle": "Indonesia Belajar",
          "description": "Cisco Packet Tracer adalah simulator yang ditawarkan oleh Cisco yang dapat membantu kita dalam mempelajari topik-topik terkait jaringan komputer. Playlist ini berisi video-video pembelajaran jaringan komputer dasar dengan memanfaatkan Cisco Packet Tracer sebagai alat bantu pembelajaran.\n\nkeywords:\n- Cisco Packet Tracer\n- Belajar Csico\n- Tutorial Cisco\n- Cisco Indonesia\n- Belajar Jaringan Komputer\n- Tutorial Jaringan Komputer",
          "localized": {
           "description": "Cisco Packet Tracer adalah simulator yang ditawarkan oleh Cisco yang dapat membantu kita dalam mempelajari topik-topik terkait jaringan komputer. Playlist ini berisi video-video pembelajaran jaringan komputer dasar dengan memanfaatkan Cisco Packet Tracer sebagai alat bantu pembelajaran.\n\nkeywords:\n- Cisco Packet Tracer\n- Belajar Csico\n- Tutorial Cisco\n- Cisco Indonesia\n- Belajar Jaringan Komputer\n- Tutorial Jaringan Komputer",
           "title": "Tutorial Belajar Jaringan Komputer Dasar dengan CISCO PacketTracer"
          },
          "publishedAt": "2019-04-18T07:31:59Z",
          "thumbnails": {
           "default": {
            "height": 90,
            "url": "https://i.ytimg.com/vi/CAWjdVqXd1I/default.jpg",
            "width": 120
           },
           "high": {
            "height": 360,
            "url": "https://i.ytimg.com/vi/CAWjdVqXd1I/hqdefault.jpg",
            "width": 480
           },
           "maxres": {
            "height": 720,
            "url": "https://i.ytimg.com/vi/CAWjdVqXd1I/maxresdefault.jpg",
            "width": 1280
           },
           "medium": {
            "height": 180,
            "url": "https://i.ytimg.com/vi/CAWjdVqXd1I/mqdefault.jpg",
            "width": 320
           },
           "standard": {
            "height": 480,
            "url": "https://i.ytimg.com/vi/CAWjdVqXd1I/sddefault.jpg",
            "width": 640
           }
          },
          "title": "Tutorial Belajar Jaringan Komputer Dasar dengan CISCO PacketTracer"
         }
        },
        {
         "contentDetails": {
          "itemCount": 9
         },
         "etag": "yoq47Ef4Uoanbnh9njeL0XamW6c",
         "id": "PL2O3HdJI4voHLld3txIVmV7IIuiBGyOWh",
         "kind": "youtube#playlist",
         "snippet": {
          "channelId": "UCQ4Jo2IJeyRGzZBvjaaLzrw",
          "channelTitle": "Indonesia Belajar",
          "description": "Tmux atau terminal multiplexer memungkinkan kita untuk bekerja dengan lebih efisien dan efektif dalam lingkungan console/terminal. Tmux cukup populer di kalangan system administrator dan juga software developer yang keyboard centric.\n\nPlaylist ini berisi video tutorial berseri yang memberikan tuntunan untuk mempelajari tmux dari dasar. Materi pembelajaran disampaikan dengan sistematis sehingga mudah untuk diikuti.",
          "localized": {
           "description": "Tmux atau terminal multiplexer memungkinkan kita untuk bekerja dengan lebih efisien dan efektif dalam lingkungan console/terminal. Tmux cukup populer di kalangan system administrator dan juga software developer yang keyboard centric.\n\nPlaylist ini berisi video tutorial berseri yang memberikan tuntunan untuk mempelajari tmux dari dasar. Materi pembelajaran disampaikan dengan sistematis sehingga mudah untuk diikuti.",
           "title": "Tutorial Belajar TMUX Dasar"
          },
          "publishedAt": "2019-04-01T04:32:42Z",
          "thumbnails": {
           "default": {
            "height": 90,
            "url": "https://i.ytimg.com/vi/m4b-zRFzZEg/default.jpg",
            "width": 120
           },
           "high": {
            "height": 360,
            "url": "https://i.ytimg.com/vi/m4b-zRFzZEg/hqdefault.jpg",
            "width": 480
           },
           "maxres": {
            "height": 720,
            "url": "https://i.ytimg.com/vi/m4b-zRFzZEg/maxresdefault.jpg",
            "width": 1280
           },
           "medium": {
            "height": 180,
            "url": "https://i.ytimg.com/vi/m4b-zRFzZEg/mqdefault.jpg",
            "width": 320
           },
           "standard": {
            "height": 480,
            "url": "https://i.ytimg.com/vi/m4b-zRFzZEg/sddefault.jpg",
            "width": 640
           }
          },
          "title": "Tutorial Belajar TMUX Dasar"
         }
        },
        {
         "contentDetails": {
          "itemCount": 9
         },
         "etag": "yiDZxP5KrdNRYkWAySFXd9t7IUI",
         "id": "PL2O3HdJI4voFAfxVMmNxj2-4Gxje1QVTR",
         "kind": "youtube#playlist",
         "snippet": {
          "channelId": "UCQ4Jo2IJeyRGzZBvjaaLzrw",
          "channelTitle": "Indonesia Belajar",
          "description": "Google Classroom adalah aplikasi penunjang pembelajaran atau biasa dikenal sebagai Learning Management System (LMS) yang disediakan oleh Google untuk meningkatkan efektifitas dan efisiensi dalam melangsungkan kegiatan belajar mengajar di kelas.\n\nPlaylist ini berisi video tutorial berseri yang memberikan tuntunan untuk menggunakan Google Classroom dari dasar. Materi pembelajaran disampaikan dengan sistematis sehingga mudah untuk diikuti.\n\n\ntutorial google classroom,\ngoogle classroom,\ngoogle classroom indonesia,\npembelajaran jarak jauh,\ncara menggunakan google classroom,\ncara membuat soal di google classroom,\ncara membuat quiz di google classroom,\npanduan google classroom,\ncara google classroom,\ntutorial google classroom untuk guru,\nbelajar google classroom,\npenggunaan google classroom,\ncara menggunakan google classroom,\ncara memakai google classroom,\ntutorial penggunaan google classroom,\ncara membuat tugas di google classroom,\npembelajaran google classroom,\ncara buat soal di google classroom,\ngoogle classroom tutorial,\ncara membuat kuis di google classroom,",
          "localized": {
           "description": "Google Classroom adalah aplikasi penunjang pembelajaran atau biasa dikenal sebagai Learning Management System (LMS) yang disediakan oleh Google untuk meningkatkan efektifitas dan efisiensi dalam melangsungkan kegiatan belajar mengajar di kelas.\n\nPlaylist ini berisi video tutorial berseri yang memberikan tuntunan untuk menggunakan Google Classroom dari dasar. Materi pembelajaran disampaikan dengan sistematis sehingga mudah untuk diikuti.\n\n\ntutorial google classroom,\ngoogle classroom,\ngoogle classroom indonesia,\npembelajaran jarak jauh,\ncara menggunakan google classroom,\ncara membuat soal di google classroom,\ncara membuat quiz di google classroom,\npanduan google classroom,\ncara google classroom,\ntutorial google classroom untuk guru,\nbelajar google classroom,\npenggunaan google classroom,\ncara menggunakan google classroom,\ncara memakai google classroom,\ntutorial penggunaan google classroom,\ncara membuat tugas di google classroom,\npembelajaran google classroom,\ncara buat soal di google classroom,\ngoogle classroom tutorial,\ncara membuat kuis di google classroom,",
           "title": "Tutorial Belajar Menggunakan Google Classroom"
          },
          "publishedAt": "2019-03-04T02:46:17Z",
          "thumbnails": {
           "default": {
            "height": 90,
            "url": "https://i.ytimg.com/vi/AMuTyLjOHsA/default.jpg",
            "width": 120
           },
           "high": {
            "height": 360,
            "url": "https://i.ytimg.com/vi/AMuTyLjOHsA/hqdefault.jpg",
            "width": 480
           },
           "maxres": {
            "height": 720,
            "url": "https://i.ytimg.com/vi/AMuTyLjOHsA/maxresdefault.jpg",
            "width": 1280
           },
           "medium": {
            "height": 180,
            "url": "https://i.ytimg.com/vi/AMuTyLjOHsA/mqdefault.jpg",
            "width": 320
           },
           "standard": {
            "height": 480,
            "url": "https://i.ytimg.com/vi/AMuTyLjOHsA/sddefault.jpg",
            "width": 640
           }
          },
          "title": "Tutorial Belajar Menggunakan Google Classroom"
         }
        },
        {
         "contentDetails": {
          "itemCount": 7
         },
         "etag": "pizUzBlLjSTtRRwWFQ8_5hac4r0",
         "id": "PL2O3HdJI4voGna4fPV3iXvj8HaHNq1LIL",
         "kind": "youtube#playlist",
         "snippet": {
          "channelId": "UCQ4Jo2IJeyRGzZBvjaaLzrw",
          "channelTitle": "Indonesia Belajar",
          "description": "",
          "localized": {
           "description": "",
           "title": "Pojok Review CLI Tools"
          },
          "publishedAt": "2019-02-19T04:48:19Z",
          "thumbnails": {
           "default": {
            "height": 90,
            "url": "https://i.ytimg.com/vi/juCDfm-XnKM/default.jpg",
            "width": 120
           },
           "high": {
            "height": 360,
            "url": "https://i.ytimg.com/vi/juCDfm-XnKM/hqdefault.jpg",
            "width": 480
           },
           "maxres": {
            "height": 720,
            "url": "https://i.ytimg.com/vi/juCDfm-XnKM/maxresdefault.jpg",
            "width": 1280
           },
           "medium": {
            "height": 180,
            "url": "https://i.ytimg.com/vi/juCDfm-XnKM/mqdefault.jpg",
            "width": 320
           },
           "standard": {
            "height": 480,
            "url": "https://i.ytimg.com/vi/juCDfm-XnKM/sddefault.jpg",
            "width": 640
           }
          },
          "title": "Pojok Review CLI Tools"
         }
        },
        {
         "contentDetails": {
          "itemCount": 9
         },
         "etag": "wg4AcpkT1nnblvmrBCVPA0oMAu0",
         "id": "PL2O3HdJI4voE_mHibdvrDqNj_vZaKCZGC",
         "kind": "youtube#playlist",
         "snippet": {
          "channelId": "UCQ4Jo2IJeyRGzZBvjaaLzrw",
          "channelTitle": "Indonesia Belajar",
          "description": "Vim adalah text editor berbasis terminal/console yang banyak digunakan oleh system administrator dan software developer yang keyboard centric.\n\nPlaylist ini berisi video tutorial berseri yang memberikan tuntunan untuk mempelajari Vim dari dasar. Materi pembelajaran disampaikan dengan sistematis sehingga mudah untuk diikuti.",
          "localized": {
           "description": "Vim adalah text editor berbasis terminal/console yang banyak digunakan oleh system administrator dan software developer yang keyboard centric.\n\nPlaylist ini berisi video tutorial berseri yang memberikan tuntunan untuk mempelajari Vim dari dasar. Materi pembelajaran disampaikan dengan sistematis sehingga mudah untuk diikuti.",
           "title": "Tutorial Belajar Vim Dasar"
          },
          "publishedAt": "2019-01-04T02:04:56Z",
          "thumbnails": {
           "default": {
            "height": 90,
            "url": "https://i.ytimg.com/vi/gcpzXEu8yGQ/default.jpg",
            "width": 120
           },
           "high": {
            "height": 360,
            "url": "https://i.ytimg.com/vi/gcpzXEu8yGQ/hqdefault.jpg",
            "width": 480
           },
           "maxres": {
            "height": 720,
            "url": "https://i.ytimg.com/vi/gcpzXEu8yGQ/maxresdefault.jpg",
            "width": 1280
           },
           "medium": {
            "height": 180,
            "url": "https://i.ytimg.com/vi/gcpzXEu8yGQ/mqdefault.jpg",
            "width": 320
           },
           "standard": {
            "height": 480,
            "url": "https://i.ytimg.com/vi/gcpzXEu8yGQ/sddefault.jpg",
            "width": 640
           }
          },
          "title": "Tutorial Belajar Vim Dasar"
         }
        }
       ],
       "kind": "youtube#playlistListResponse",
       "pageInfo": {
        "resultsPerPage": 50,
        "totalResults": 43
       }
      },
      "text/plain": [
       "<IPython.core.display.JSON object>"
      ]
     },
     "execution_count": 16,
     "metadata": {
      "application/json": {
       "expanded": false,
       "root": "root"
      }
     },
     "output_type": "execute_result"
    }
   ],
   "source": [
    "JSON(playlist_items)"
   ]
  },
  {
   "cell_type": "code",
   "execution_count": 17,
   "metadata": {},
   "outputs": [],
   "source": [
    "playlist_items_id = playlist_items['items'][0]['id']\n",
    "playlist_items_title = playlist_items['items'][0]['snippet']['title']\n",
    "playlist_items_description = playlist_items['items'][0]['snippet']['description']\n",
    "playlist_video_total = playlist_items['items'][0]['contentDetails']"
   ]
  },
  {
   "cell_type": "code",
   "execution_count": 18,
   "metadata": {},
   "outputs": [
    {
     "data": {
      "text/plain": [
       "'PL2O3HdJI4voFWT9zTM2wUqHDLt2Ds_3bi'"
      ]
     },
     "execution_count": 18,
     "metadata": {},
     "output_type": "execute_result"
    }
   ],
   "source": [
    "playlist_items_id"
   ]
  },
  {
   "cell_type": "code",
   "execution_count": 19,
   "metadata": {},
   "outputs": [],
   "source": [
    "playlist_id = []\n",
    "playlist_title = []\n",
    "playlist_description = []\n",
    "playlist_video_total = []\n",
    "for item in playlist_items['items']:\n",
    "    playlist_id.append(item['id'])\n",
    "    playlist_title.append(item['snippet']['title'])\n",
    "    playlist_description.append(item['snippet']['description'])\n",
    "    playlist_video_total.append(item['contentDetails'])\n",
    "\n",
    "playlist_dict = {\n",
    "    'id': playlist_id,\n",
    "    'title': playlist_title,\n",
    "    'description': playlist_description,\n",
    "    'video_total': playlist_video_total}"
   ]
  },
  {
   "cell_type": "code",
   "execution_count": 20,
   "metadata": {},
   "outputs": [],
   "source": [
    "df_playlist = pd.DataFrame(playlist_dict)"
   ]
  },
  {
   "cell_type": "code",
   "execution_count": 21,
   "metadata": {},
   "outputs": [
    {
     "data": {
      "text/html": [
       "<div>\n",
       "<style scoped>\n",
       "    .dataframe tbody tr th:only-of-type {\n",
       "        vertical-align: middle;\n",
       "    }\n",
       "\n",
       "    .dataframe tbody tr th {\n",
       "        vertical-align: top;\n",
       "    }\n",
       "\n",
       "    .dataframe thead th {\n",
       "        text-align: right;\n",
       "    }\n",
       "</style>\n",
       "<table border=\"1\" class=\"dataframe\">\n",
       "  <thead>\n",
       "    <tr style=\"text-align: right;\">\n",
       "      <th></th>\n",
       "      <th>id</th>\n",
       "      <th>title</th>\n",
       "      <th>description</th>\n",
       "      <th>video_total</th>\n",
       "    </tr>\n",
       "  </thead>\n",
       "  <tbody>\n",
       "    <tr>\n",
       "      <th>0</th>\n",
       "      <td>PL2O3HdJI4voFWT9zTM2wUqHDLt2Ds_3bi</td>\n",
       "      <td>Podcast Blockchain</td>\n",
       "      <td></td>\n",
       "      <td>{'itemCount': 4}</td>\n",
       "    </tr>\n",
       "    <tr>\n",
       "      <th>1</th>\n",
       "      <td>PL2O3HdJI4voED2tsGDA2MRjKIhyjhHKNK</td>\n",
       "      <td>Podcast Data</td>\n",
       "      <td></td>\n",
       "      <td>{'itemCount': 7}</td>\n",
       "    </tr>\n",
       "    <tr>\n",
       "      <th>2</th>\n",
       "      <td>PL2O3HdJI4voHK5d2Vom-MKQ2IVcxcTLPQ</td>\n",
       "      <td>Belajar Container bersama AWS</td>\n",
       "      <td></td>\n",
       "      <td>{'itemCount': 4}</td>\n",
       "    </tr>\n",
       "    <tr>\n",
       "      <th>3</th>\n",
       "      <td>PL2O3HdJI4voEQS7Ka4RxHRAWJz_NIymkz</td>\n",
       "      <td>Belajar Container bersama AWS</td>\n",
       "      <td></td>\n",
       "      <td>{'itemCount': 0}</td>\n",
       "    </tr>\n",
       "    <tr>\n",
       "      <th>4</th>\n",
       "      <td>PL2O3HdJI4voFyH616uejhvYt5AQzZ2iTi</td>\n",
       "      <td>Belajar Time Series dengan Google Sheets</td>\n",
       "      <td></td>\n",
       "      <td>{'itemCount': 7}</td>\n",
       "    </tr>\n",
       "  </tbody>\n",
       "</table>\n",
       "</div>"
      ],
      "text/plain": [
       "                                   id  \\\n",
       "0  PL2O3HdJI4voFWT9zTM2wUqHDLt2Ds_3bi   \n",
       "1  PL2O3HdJI4voED2tsGDA2MRjKIhyjhHKNK   \n",
       "2  PL2O3HdJI4voHK5d2Vom-MKQ2IVcxcTLPQ   \n",
       "3  PL2O3HdJI4voEQS7Ka4RxHRAWJz_NIymkz   \n",
       "4  PL2O3HdJI4voFyH616uejhvYt5AQzZ2iTi   \n",
       "\n",
       "                                      title description       video_total  \n",
       "0                        Podcast Blockchain              {'itemCount': 4}  \n",
       "1                              Podcast Data              {'itemCount': 7}  \n",
       "2             Belajar Container bersama AWS              {'itemCount': 4}  \n",
       "3             Belajar Container bersama AWS              {'itemCount': 0}  \n",
       "4  Belajar Time Series dengan Google Sheets              {'itemCount': 7}  "
      ]
     },
     "execution_count": 21,
     "metadata": {},
     "output_type": "execute_result"
    }
   ],
   "source": [
    "df_playlist.head()"
   ]
  },
  {
   "cell_type": "markdown",
   "metadata": {},
   "source": [
    "### Cleaning Data"
   ]
  },
  {
   "cell_type": "code",
   "execution_count": 23,
   "metadata": {},
   "outputs": [
    {
     "name": "stderr",
     "output_type": "stream",
     "text": [
      "C:\\Users\\Rizky\\AppData\\Local\\Temp/ipykernel_11904/2337346490.py:2: FutureWarning: The default value of regex will change from True to False in a future version.\n",
      "  df_playlist['video_total'] = df_playlist['video_total'].str.replace('({\\'itemCount\\': |})', '').str.strip()\n"
     ]
    }
   ],
   "source": [
    "df_playlist['video_total'] = df_playlist['video_total'].astype(str)\n",
    "df_playlist['video_total'] = df_playlist['video_total'].str.replace('({\\'itemCount\\': |})', '').str.strip()"
   ]
  },
  {
   "cell_type": "code",
   "execution_count": 24,
   "metadata": {},
   "outputs": [
    {
     "data": {
      "text/html": [
       "<div>\n",
       "<style scoped>\n",
       "    .dataframe tbody tr th:only-of-type {\n",
       "        vertical-align: middle;\n",
       "    }\n",
       "\n",
       "    .dataframe tbody tr th {\n",
       "        vertical-align: top;\n",
       "    }\n",
       "\n",
       "    .dataframe thead th {\n",
       "        text-align: right;\n",
       "    }\n",
       "</style>\n",
       "<table border=\"1\" class=\"dataframe\">\n",
       "  <thead>\n",
       "    <tr style=\"text-align: right;\">\n",
       "      <th></th>\n",
       "      <th>id</th>\n",
       "      <th>title</th>\n",
       "      <th>description</th>\n",
       "      <th>video_total</th>\n",
       "    </tr>\n",
       "  </thead>\n",
       "  <tbody>\n",
       "    <tr>\n",
       "      <th>0</th>\n",
       "      <td>PL2O3HdJI4voFWT9zTM2wUqHDLt2Ds_3bi</td>\n",
       "      <td>Podcast Blockchain</td>\n",
       "      <td></td>\n",
       "      <td>4</td>\n",
       "    </tr>\n",
       "    <tr>\n",
       "      <th>1</th>\n",
       "      <td>PL2O3HdJI4voED2tsGDA2MRjKIhyjhHKNK</td>\n",
       "      <td>Podcast Data</td>\n",
       "      <td></td>\n",
       "      <td>7</td>\n",
       "    </tr>\n",
       "    <tr>\n",
       "      <th>2</th>\n",
       "      <td>PL2O3HdJI4voHK5d2Vom-MKQ2IVcxcTLPQ</td>\n",
       "      <td>Belajar Container bersama AWS</td>\n",
       "      <td></td>\n",
       "      <td>4</td>\n",
       "    </tr>\n",
       "    <tr>\n",
       "      <th>3</th>\n",
       "      <td>PL2O3HdJI4voEQS7Ka4RxHRAWJz_NIymkz</td>\n",
       "      <td>Belajar Container bersama AWS</td>\n",
       "      <td></td>\n",
       "      <td>0</td>\n",
       "    </tr>\n",
       "    <tr>\n",
       "      <th>4</th>\n",
       "      <td>PL2O3HdJI4voFyH616uejhvYt5AQzZ2iTi</td>\n",
       "      <td>Belajar Time Series dengan Google Sheets</td>\n",
       "      <td></td>\n",
       "      <td>7</td>\n",
       "    </tr>\n",
       "  </tbody>\n",
       "</table>\n",
       "</div>"
      ],
      "text/plain": [
       "                                   id  \\\n",
       "0  PL2O3HdJI4voFWT9zTM2wUqHDLt2Ds_3bi   \n",
       "1  PL2O3HdJI4voED2tsGDA2MRjKIhyjhHKNK   \n",
       "2  PL2O3HdJI4voHK5d2Vom-MKQ2IVcxcTLPQ   \n",
       "3  PL2O3HdJI4voEQS7Ka4RxHRAWJz_NIymkz   \n",
       "4  PL2O3HdJI4voFyH616uejhvYt5AQzZ2iTi   \n",
       "\n",
       "                                      title description video_total  \n",
       "0                        Podcast Blockchain                       4  \n",
       "1                              Podcast Data                       7  \n",
       "2             Belajar Container bersama AWS                       4  \n",
       "3             Belajar Container bersama AWS                       0  \n",
       "4  Belajar Time Series dengan Google Sheets                       7  "
      ]
     },
     "execution_count": 24,
     "metadata": {},
     "output_type": "execute_result"
    }
   ],
   "source": [
    "df_playlist.head()"
   ]
  },
  {
   "cell_type": "code",
   "execution_count": 25,
   "metadata": {},
   "outputs": [],
   "source": [
    "df_playlist.to_csv('list semua playlist.csv', index=False)"
   ]
  }
 ],
 "metadata": {
  "interpreter": {
   "hash": "7b6436325e9377719a592792dfe0ce54491ba6c4ef196d6e9ffa87db18b04f19"
  },
  "kernelspec": {
   "display_name": "Python 3 (ipykernel)",
   "language": "python",
   "name": "python3"
  },
  "language_info": {
   "codemirror_mode": {
    "name": "ipython",
    "version": 3
   },
   "file_extension": ".py",
   "mimetype": "text/x-python",
   "name": "python",
   "nbconvert_exporter": "python",
   "pygments_lexer": "ipython3",
   "version": "3.9.7"
  }
 },
 "nbformat": 4,
 "nbformat_minor": 4
}
