{
 "cells": [
  {
   "cell_type": "code",
   "execution_count": 1,
   "metadata": {},
   "outputs": [],
   "source": [
    "# import packages for tools to get API data\n",
    "import requests\n",
    "import pandas as pd\n",
    "from IPython.display import JSON\n",
    "import keys"
   ]
  },
  {
   "cell_type": "code",
   "execution_count": 30,
   "metadata": {},
   "outputs": [],
   "source": [
    "# get api keys and channel id\n",
    "\n",
    "# get API keys from google project\n",
    "API_KEYS = keys.get_API_KEYS()\n",
    "\n",
    "# Indonesia Belajar Channel\n",
    "channel_id =  'UCQ4Jo2IJeyRGzZBvjaaLzrw'\n",
    "\n",
    "# parameter being used\n",
    "parameters = [\n",
    "    'contentDetails',\n",
    "    'id',\n",
    "    'snippet',\n",
    "    'statistics',\n",
    "    'topicDetails'\n",
    "]"
   ]
  },
  {
   "cell_type": "code",
   "execution_count": 39,
   "metadata": {},
   "outputs": [
    {
     "data": {
      "text/plain": [
       "200"
      ]
     },
     "execution_count": 39,
     "metadata": {},
     "output_type": "execute_result"
    }
   ],
   "source": [
    "# define endpoint for data collection\n",
    "url = 'https://youtube.googleapis.com/youtube/v3/channels?part='+'%2C'.join([parameter for parameter in parameters])+'&id='+channel_id+'&key='+API_KEYS\n",
    "\n",
    "# get the response from endpoint API\n",
    "response = requests.get(url)\n",
    "\n",
    "# check the status code for the connection to the API server\n",
    "response.status_code"
   ]
  },
  {
   "cell_type": "code",
   "execution_count": 33,
   "metadata": {},
   "outputs": [
    {
     "data": {
      "text/plain": [
       "{'kind': 'youtube#channelListResponse',\n",
       " 'etag': 'wfnRkTrD54Asg9TYkO09KUMoEWk',\n",
       " 'pageInfo': {'totalResults': 1, 'resultsPerPage': 5},\n",
       " 'items': [{'kind': 'youtube#channel',\n",
       "   'etag': 'sWFvjEPXDHyfmX9Bf5vvTP5k3hU',\n",
       "   'id': 'UCQ4Jo2IJeyRGzZBvjaaLzrw',\n",
       "   'snippet': {'title': 'Indonesia Belajar',\n",
       "    'description': 'Selamat datang di channel Indonesia Belajar, channel belajar ilmu komputer berbahasa Indonesia.\\n\\nChannel ini diinisiasi oleh Setia Budi pada tahun 2016 sewaktu menjalani studi PhD di Australia, tetapi video pembelajaran pertama di channel ini baru mulai tergarap di Januari 2019.\\n\\nMoto dari channel ini adalah \"Banyak Belajar Biar Bisa Bantu Banyak Orang\" \\n\\nChannel ini dibangun dengan motivasi untuk mendorong perkembangan SDM di Indonesia dengan keterampilan dasar yang mumpuni di bidang teknologi informasi atau IT.\\n\\nDonasi:\\nhttps://saweria.co/belajaridn\\n\\nFollow kami di:\\nInstagram: https://www.instagram.com/belajarIDN\\nTwitter: https://www.twitter.com/belajarIDN\\nDiscord: https://discord.com/invite/ybWmMHCfrQ\\n\\nProfil pengelola::\\n- LinkedIn: https://www.linkedin.com/in/boedybios/\\n- Orcid: https://orcid.org/0000-0003-1408-7808\\n- Github: https://github.com/boedybios/\\n- Kaggle: https://www.kaggle.com/boedybios/',\n",
       "    'customUrl': 'indonesiabelajarkomputer',\n",
       "    'publishedAt': '2016-11-06T04:50:26Z',\n",
       "    'thumbnails': {'default': {'url': 'https://yt3.ggpht.com/ytc/AKedOLQ2RAqiMb7-4W3Jlnao2ii3cfK1ZX7AkP3YKIH4gQ=s88-c-k-c0x00ffffff-no-rj',\n",
       "      'width': 88,\n",
       "      'height': 88},\n",
       "     'medium': {'url': 'https://yt3.ggpht.com/ytc/AKedOLQ2RAqiMb7-4W3Jlnao2ii3cfK1ZX7AkP3YKIH4gQ=s240-c-k-c0x00ffffff-no-rj',\n",
       "      'width': 240,\n",
       "      'height': 240},\n",
       "     'high': {'url': 'https://yt3.ggpht.com/ytc/AKedOLQ2RAqiMb7-4W3Jlnao2ii3cfK1ZX7AkP3YKIH4gQ=s800-c-k-c0x00ffffff-no-rj',\n",
       "      'width': 800,\n",
       "      'height': 800}},\n",
       "    'localized': {'title': 'Indonesia Belajar',\n",
       "     'description': 'Selamat datang di channel Indonesia Belajar, channel belajar ilmu komputer berbahasa Indonesia.\\n\\nChannel ini diinisiasi oleh Setia Budi pada tahun 2016 sewaktu menjalani studi PhD di Australia, tetapi video pembelajaran pertama di channel ini baru mulai tergarap di Januari 2019.\\n\\nMoto dari channel ini adalah \"Banyak Belajar Biar Bisa Bantu Banyak Orang\" \\n\\nChannel ini dibangun dengan motivasi untuk mendorong perkembangan SDM di Indonesia dengan keterampilan dasar yang mumpuni di bidang teknologi informasi atau IT.\\n\\nDonasi:\\nhttps://saweria.co/belajaridn\\n\\nFollow kami di:\\nInstagram: https://www.instagram.com/belajarIDN\\nTwitter: https://www.twitter.com/belajarIDN\\nDiscord: https://discord.com/invite/ybWmMHCfrQ\\n\\nProfil pengelola::\\n- LinkedIn: https://www.linkedin.com/in/boedybios/\\n- Orcid: https://orcid.org/0000-0003-1408-7808\\n- Github: https://github.com/boedybios/\\n- Kaggle: https://www.kaggle.com/boedybios/'},\n",
       "    'country': 'ID'},\n",
       "   'contentDetails': {'relatedPlaylists': {'likes': '',\n",
       "     'uploads': 'UUQ4Jo2IJeyRGzZBvjaaLzrw'}},\n",
       "   'statistics': {'viewCount': '4047505',\n",
       "    'subscriberCount': '86200',\n",
       "    'hiddenSubscriberCount': False,\n",
       "    'videoCount': '494'},\n",
       "   'topicDetails': {'topicIds': ['/m/07c1v', '/m/01k8wb', '/m/019_rr'],\n",
       "    'topicCategories': ['https://en.wikipedia.org/wiki/Technology',\n",
       "     'https://en.wikipedia.org/wiki/Knowledge',\n",
       "     'https://en.wikipedia.org/wiki/Lifestyle_(sociology)']}}]}"
      ]
     },
     "execution_count": 33,
     "metadata": {},
     "output_type": "execute_result"
    }
   ],
   "source": [
    "# show the response result\n",
    "response.json()"
   ]
  }
 ],
 "metadata": {
  "interpreter": {
   "hash": "7b6436325e9377719a592792dfe0ce54491ba6c4ef196d6e9ffa87db18b04f19"
  },
  "kernelspec": {
   "display_name": "Python 3.9.7 ('base')",
   "language": "python",
   "name": "python3"
  },
  "language_info": {
   "codemirror_mode": {
    "name": "ipython",
    "version": 3
   },
   "file_extension": ".py",
   "mimetype": "text/x-python",
   "name": "python",
   "nbconvert_exporter": "python",
   "pygments_lexer": "ipython3",
   "version": "3.9.7"
  },
  "orig_nbformat": 4
 },
 "nbformat": 4,
 "nbformat_minor": 2
}
